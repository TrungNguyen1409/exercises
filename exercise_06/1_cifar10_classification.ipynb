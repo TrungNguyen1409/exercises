{
 "cells": [
  {
   "attachments": {},
   "cell_type": "markdown",
   "metadata": {
    "id": "g6vUCiE_N5eU"
   },
   "source": [
    "# Cifar10 Classification"
   ]
  },
  {
   "attachments": {},
   "cell_type": "markdown",
   "metadata": {
    "id": "X9ridWdTN5eY"
   },
   "source": [
    "Until now, we have implemented several pieces of a deep learning pipeline and trained a two-layer neural network, but all hyperparameters were pre-set to values yielding resonable results. However, in real problems a large part of the work will be geared towards finding the best hyperparameter settings for a certain problem. In this notebook we will explore some good practices for network debugging and hyperparameters search, as well as extending our binary classification neural network to a multi-class one.\n",
    "\n",
    "Let's go!\n",
    "\n",
    "**Note 1**: This exercise is quite heavy with computations. We recommend using Google-Colab.\n",
    "\n",
    "**Note 2**: This exercise takes time, so start early!!"
   ]
  },
  {
   "attachments": {},
   "cell_type": "markdown",
   "metadata": {
    "id": "4sTNILP7OCzb"
   },
   "source": [
    "## (Optional) Mount folder in Colab\n",
    "\n",
    "Uncomment the following cell to mount your gdrive if you are using the notebook in google colab:"
   ]
  },
  {
   "cell_type": "code",
   "execution_count": null,
   "metadata": {
    "colab": {
     "base_uri": "https://localhost:8080/"
    },
    "executionInfo": {
     "elapsed": 35664,
     "status": "ok",
     "timestamp": 1650011700447,
     "user": {
      "displayName": "Weber Anna",
      "userId": "18154618360144454414"
     },
     "user_tz": -120
    },
    "id": "PoG-5okpOPht",
    "outputId": "a670ffa3-ee59-4ef5-e323-3f3fec373486"
   },
   "outputs": [],
   "source": [
    "\"\"\"\n",
    "from google.colab import drive\n",
    "import os\n",
    "\n",
    "gdrive_path='/content/gdrive/MyDrive/i2dl/exercise_06'\n",
    "\n",
    "# This will mount your google drive under 'MyDrive'\n",
    "drive.mount('/content/gdrive', force_remount=True)\n",
    "# In order to access the files in this notebook we have to navigate to the correct folder\n",
    "os.chdir(gdrive_path)\n",
    "# Check manually if all files are present\n",
    "print(sorted(os.listdir()))\n",
    "\"\"\""
   ]
  },
  {
   "cell_type": "code",
   "execution_count": 1,
   "metadata": {
    "id": "JZmN1ATIN5eY"
   },
   "outputs": [],
   "source": [
    "# Some lengthy setup.\n",
    "import matplotlib.pyplot as plt\n",
    "import numpy as np\n",
    "import os\n",
    "import urllib.request\n",
    "\n",
    "from exercise_code.networks.layer import (\n",
    "    Sigmoid, \n",
    "    Relu, \n",
    "    LeakyRelu, \n",
    "    Tanh,\n",
    ")\n",
    "from exercise_code.data import (\n",
    "    DataLoader,\n",
    "    ImageFolderDataset,\n",
    "    MemoryImageFolderDataset,\n",
    "    RescaleTransform,\n",
    "    NormalizeTransform,\n",
    "    FlattenTransform,\n",
    "    ComposeTransform,\n",
    ")\n",
    "from exercise_code.data.image_folder_dataset import RandomHorizontalFlip\n",
    "from exercise_code.networks import (\n",
    "    ClassificationNet,\n",
    "    BCE,\n",
    "    CrossEntropyFromLogits\n",
    ")\n",
    "\n",
    "%load_ext autoreload\n",
    "%autoreload 2\n",
    "%matplotlib inline\n",
    "\n",
    "plt.rcParams['figure.figsize'] = (10.0, 8.0) # set default size of plots\n",
    "plt.rcParams['image.interpolation'] = 'nearest'\n",
    "plt.rcParams['image.cmap'] = 'gray'\n",
    "os.environ['KMP_DUPLICATE_LIB_OK']='True' # To prevent the kernel from dying."
   ]
  },
  {
   "attachments": {},
   "cell_type": "markdown",
   "metadata": {
    "id": "tRdaBwnMN5ea"
   },
   "source": [
    "# 1. Quick recap (and some new things)"
   ]
  },
  {
   "attachments": {},
   "cell_type": "markdown",
   "metadata": {
    "id": "zsNrBTkyN5eb"
   },
   "source": [
    "Until now, in the previous exercises, we focused on building and understanding all the necessary modules for training a simple model. We followed the Pytorch implementations closely, as this is the framework we will use later and we wanted you to have a smoother transition to its APIs. \n",
    "\n",
    "In the figure below you can see the main components in Pytorch. Let's start with a quick recap of **our implementation** of these components. \n",
    "\n",
    "<div class=\"alert alert-success\">\n",
    "    <h3>Task: Check Code</h3>\n",
    "    <p>Everything is already implemented for this part, but we <b>strongly</b> encourage you to check  the respective source files in order to have a better understanding. </p>\n",
    "</div>"
   ]
  },
  {
   "attachments": {},
   "cell_type": "markdown",
   "metadata": {
    "id": "reTr9-VRN5ec"
   },
   "source": [
    "<img src=\"https://cdn-images-1.medium.com/max/800/1*uZrS4KjAuSJQIJPgOiaJUg.png\" style=\"width: 500px;\">"
   ]
  },
  {
   "attachments": {},
   "cell_type": "markdown",
   "metadata": {
    "id": "4fZoL6hvN5ec"
   },
   "source": [
    "## 1.1 Dataset and Dataloader"
   ]
  },
  {
   "attachments": {},
   "cell_type": "markdown",
   "metadata": {
    "id": "jvv1QqmJN5ed"
   },
   "source": [
    "Data preparation is an important part of deep learning projects. Because the data can come in different formats and from different sources, it must be prepared in a certain way, which depends on the application. One part, however, is uniform: since an entire dataset is usually too large to handle at once, we train our models on smaller batches of data. \n",
    "\n",
    "The goal of the ```Dataset``` class is to encapsulate all the 'dirty' data processing: loading and cleaning the data, storing features (or names of files where features can be found) and labels, as well as providing the means for accessing individual (transformed) items of the data using the ```__getitem__()``` function and an index. You already implemented an ```ImageFolderDataset``` (in ```exercise_code/data/image_folder_dataset.py```) class in Exercise 3. We we will reuse this class here.\n",
    "\n",
    "For processing the data, you implemented several transforms in Exercise 3 (```RescaleTransform```, ```NormalizeTransform```, ```ComposeTransform```). In this exercise we are working with images, which are multidimensional arrays, but we are using a simple feedforward neural network which takes an one dimensional array as an input, so it is necessary to reshape the images before feeding them into the model. \n",
    "\n",
    "<div class=\"alert alert-success\">\n",
    "    <h3>Task: Check Code</h3>\n",
    "    <p>Please check the implementation of the reshape operation in the <code>FlattenTransform</code> class, which can be found in <code>../exercise_06/exercise_code/data/image_folder_dataset.py</code>. </p>\n",
    "</div>"
   ]
  },
  {
   "cell_type": "code",
   "execution_count": 2,
   "metadata": {},
   "outputs": [],
   "source": [
    "download_url = \"https://i2dl.vc.in.tum.de/static/data/cifar10.zip\"\n",
    "i2dl_exercises_path = os.path.dirname(os.path.abspath(os.getcwd()))\n",
    "cifar_root = os.path.join(i2dl_exercises_path, \"datasets\", \"cifar10\")"
   ]
  },
  {
   "attachments": {},
   "cell_type": "markdown",
   "metadata": {},
   "source": [
    "## The usual memory vs local data warning\n",
    "If you are using google colab or store your files on a local HDD, iterating over dataset takes quite some time and blablabla. You know the drill by now ;).\n",
    "\n",
    "<div class=\"alert alert-danger\">\n",
    "    <h3>Warning</h3>\n",
    "    <p>Loading the whole dataset into memory will not work if you are using a machine with 4GB of RAM or less (depending on your other programs such as memory hungry web browsers). Consider closing some open programs or simply use the local on-demand ImageFolderDataset.</p>\n",
    "    <p>In addition we want to warn you that everytime you execute a cell like \"dataset2 = MemoryImageFolderDataset...\" you are loading a 1.2GB matrix into your memory. If you do this often enough this notebook will crash on every machine. Therefore, we make sure to always use a single variable \"dataset\" which will be overwritten by future cells to avoid straining your memory too much.</p>\n",
    "</div>"
   ]
  },
  {
   "cell_type": "code",
   "execution_count": 3,
   "metadata": {},
   "outputs": [],
   "source": [
    "# Choose your preferred dataset here\n",
    "\n",
    "# DATASET = ImageFolderDataset\n",
    "DATASET = MemoryImageFolderDataset"
   ]
  },
  {
   "attachments": {},
   "cell_type": "markdown",
   "metadata": {},
   "source": [
    "Now that this has been taken care of, back to the actual loading."
   ]
  },
  {
   "cell_type": "code",
   "execution_count": 4,
   "metadata": {
    "id": "2fHY8xTPN5ee"
   },
   "outputs": [
    {
     "name": "stdout",
     "output_type": "stream",
     "text": [
      "30000\n",
      "10000\n",
      "10000\n"
     ]
    }
   ],
   "source": [
    "# Use the Cifar10 mean and standard deviation computed in Exercise 3.\n",
    "cifar_mean = np.array([0.49191375, 0.48235852, 0.44673872])\n",
    "cifar_std  = np.array([0.24706447, 0.24346213, 0.26147554])\n",
    "\n",
    "# Define all the transforms we will apply on the images when \n",
    "# retrieving them.\n",
    "rescale_transform = RescaleTransform()\n",
    "normalize_transform = NormalizeTransform(\n",
    "    mean=cifar_mean,\n",
    "    std=cifar_std\n",
    ")\n",
    "flatten_transform = FlattenTransform()\n",
    "compose_transform = ComposeTransform([rescale_transform, \n",
    "                                      normalize_transform,\n",
    "                                      flatten_transform])\n",
    "\n",
    "# Create a train, validation and test dataset.\n",
    "datasets = {}\n",
    "for mode in ['train', 'val', 'test']:\n",
    "    crt_dataset = DATASET(\n",
    "        mode=mode,\n",
    "        root=cifar_root, \n",
    "        transform=compose_transform,\n",
    "        split={'train': 0.6, 'val': 0.2, 'test': 0.2}\n",
    "    )\n",
    "    datasets[mode] = crt_dataset\n",
    "    print(len(crt_dataset))"
   ]
  },
  {
   "attachments": {},
   "cell_type": "markdown",
   "metadata": {
    "id": "FsR4dM2kN5ee"
   },
   "source": [
    "Then, based on this ```Dataset``` object, we can construct a ```Dataloader``` object which samples a random mini-batch of data at once. "
   ]
  },
  {
   "cell_type": "code",
   "execution_count": 5,
   "metadata": {
    "id": "3t4Xj_n3N5ef"
   },
   "outputs": [],
   "source": [
    "# Create a dataloader for each split.\n",
    "dataloaders = {}\n",
    "for mode in ['train', 'val', 'test']:\n",
    "    crt_dataloader = DataLoader(\n",
    "        dataset=datasets[mode],\n",
    "        batch_size=256,\n",
    "        shuffle=True,\n",
    "        drop_last=True,\n",
    "    )\n",
    "    dataloaders[mode] = crt_dataloader"
   ]
  },
  {
   "attachments": {},
   "cell_type": "markdown",
   "metadata": {
    "id": "CpruSFLkN5ef"
   },
   "source": [
    "Because the ```Dataloader``` has the ```__iter__()``` method, we can simply iterate through the batches it produces, like this:\n",
    "\n",
    "```python\n",
    "for batch in dataloader['train']:\n",
    "    do_something(batch)\n",
    "```"
   ]
  },
  {
   "attachments": {},
   "cell_type": "markdown",
   "metadata": {
    "id": "L81EGyslN5eg"
   },
   "source": [
    "## 1.2 Data Augmentation\n",
    "\n",
    "After the preprocessing steps, our data is in a good shape and ready to be fed into our network. As explained in the chapter above, we used the transformation functions `RescaleTransform`, `NormalizeTransform` and `FlattenTransform` to achieve this shape. These are the general steps that you need to perform on the data before you can start training. Of course, all these steps have to be applied to our three dataset splits (train, val and test split). In other words, preprocessing involves preparing the data before it can be used for training and inference. \n",
    "\n",
    "Besides these basic transformations, there are many other transformation methods that you can apply to the images. For example, you can <b>flip the images horizontally</b> or <b>blur the images</b> and use these new images to enlarge the dataset. This idea is called Data Augmentation and it involves methods that alter the training images to generate a synthetic dataset that is larger than your original dataset. This will hopefully improve the performance of your model. There is one important difference between data augmentation and data preprocessing: The transformation methods used to enlarge your dataset should only be applied to the training data. The validation and test data should not be affected by these methods.\n",
    "\n",
    "<div class=\"alert alert-success\">\n",
    "    <h3>Task: Check Code</h3>\n",
    "    <p>The choice of transformation methods for data augmentation can be seen as a hyperparameter of your model. You can try to include these to enlarge your training data and obtain better results for your model. In <code>exercise_code/data/image_folder_dataset.py</code> we implemented the function <code>RandomHorizontalFlip</code> for you, which is randomly flipping an image horizontally. Check out the implementation.</p>\n",
    "    <p> Later, we will perform hyperparameter tuning. In order to improve your model's performance, you can include some other data augmentation methods. Feel free to play around and to implement other methods as for example Gaussian Blur or Rotation. </p>       \n",
    "</div>\n",
    "\n",
    "Let us quickly check the `RandomHorizontalFlip` method with an image of the Cifar10 dataset in the following cell."
   ]
  },
  {
   "cell_type": "code",
   "execution_count": 6,
   "metadata": {
    "colab": {
     "base_uri": "https://localhost:8080/",
     "height": 98
    },
    "executionInfo": {
     "elapsed": 962,
     "status": "ok",
     "timestamp": 1650011739465,
     "user": {
      "displayName": "Weber Anna",
      "userId": "18154618360144454414"
     },
     "user_tz": -120
    },
    "id": "3BEjmTGHN5eg",
    "outputId": "a6adee5b-1dd4-436c-e811-952f4ae12e5f"
   },
   "outputs": [
    {
     "data": {
      "image/png": "[encoded data removed]",
      "text/plain": [
       "<Figure size 200x200 with 2 Axes>"
      ]
     },
     "metadata": {},
     "output_type": "display_data"
    }
   ],
   "source": [
    "#Load the data in a dataset without any transformation \n",
    "dataset = DATASET(\n",
    "        mode=mode,\n",
    "        root=cifar_root, \n",
    "        download_url=download_url,\n",
    "        split={'train': 0.6, 'val': 0.2, 'test': 0.2},\n",
    "    )\n",
    "\n",
    "#Retrieve an image from the dataset and flip it\n",
    "image = dataset[1]['image']\n",
    "transform = RandomHorizontalFlip(1)\n",
    "image_flipped = transform(image)\n",
    "\n",
    "#Show the two images\n",
    "plt.figure(figsize = (2,2))\n",
    "plt.subplot(1, 2, 1)\n",
    "plt.imshow(image.astype('uint8'))\n",
    "plt.axis('off')\n",
    "plt.subplot(1, 2, 2)\n",
    "plt.imshow(image_flipped.astype('uint8'))\n",
    "plt.axis('off')\n",
    "plt.title(\"Left: Original Image, Right: Flipped image\")\n",
    "plt.show()"
   ]
  },
  {
   "attachments": {},
   "cell_type": "markdown",
   "metadata": {
    "id": "WKNRU4BWN5eg"
   },
   "source": [
    "## 1.3 Layers\n",
    "\n",
    "Now, that the data is prepared, we can take a look at the model we are using. In our case it will be a neural network. \n",
    "\n",
    "In Exercise 5, you implemented a simple 2-layer neural network that had a hidden size as a parameter:\n",
    "\n",
    "$$ \n",
    "{\\hat{y}} = \\sigma(\\sigma({x W_1} + {b_1}) {W_2} + {b_2}) \n",
    "$$\n",
    "\n",
    "where $ \\sigma({x}) $ was the sigmoid function, $ {x} $ was the input, $ {W_1}, {W_2} $ the weight matrices and $ {b_1}, {b_2}$ the biases for the two layers.\n",
    "\n",
    "This is how we used this network:"
   ]
  },
  {
   "cell_type": "code",
   "execution_count": 7,
   "metadata": {
    "id": "6zta7tzkN5eg"
   },
   "outputs": [],
   "source": [
    "input_size = datasets['train'][0]['image'].shape[0]\n",
    "model = ClassificationNet(input_size=input_size, \n",
    "                          hidden_size=512)"
   ]
  },
  {
   "attachments": {},
   "cell_type": "markdown",
   "metadata": {
    "id": "UpAoXE7nN5eh"
   },
   "source": [
    "Note that we updated the ```ClassificationNet``` from the previous exercise. Now you can customize the number of outputs, the choice of activation function, the hidden size etc. We encourage you to check the implementation in ```exercise_code/networks/classification_net.py``` "
   ]
  },
  {
   "cell_type": "code",
   "execution_count": 8,
   "metadata": {
    "id": "7wzEaw66N5eh"
   },
   "outputs": [],
   "source": [
    "num_layer = 2\n",
    "reg = 1e-6\n",
    "\n",
    "model = ClassificationNet(activation=Relu, \n",
    "                          num_layer=num_layer, \n",
    "                          reg=reg,\n",
    "                          num_classes=10)"
   ]
  },
  {
   "attachments": {},
   "cell_type": "markdown",
   "metadata": {
    "id": "x70gjgkDN5eh"
   },
   "source": [
    "Performing the forward and backward passes through the model was quite simple:\n",
    "\n",
    "```python\n",
    "\n",
    "# X is a batch of training features \n",
    "# X.shape = (batch_size, features_size)\n",
    "y_out = model.forward(X)\n",
    "\n",
    "# dout is the gradient of the loss function w.r.t the output of the network.\n",
    "# dout.shape = (batch_size, )\n",
    "model.backward(dout)\n",
    "```"
   ]
  },
  {
   "attachments": {},
   "cell_type": "markdown",
   "metadata": {
    "id": "dlwNcT2RN5eh"
   },
   "source": [
    "Just as the learning rate or the number of epochs we want to train for, the number of hidden layers and the number of units in each hidden layer are also hyperparameters that we can tune. In this notebook you can play with networks of different sizes to see the impact that the network capacity has.\n",
    "\n",
    "Before we move on to the loss functions, let's have a look at the activation functions. The choice of an activation function can have a huge impact on the performance of the network you are designing. So far, you have implemented the `Sigmoid` and the `Relu` activation functions in Exercise 5. \n",
    "\n",
    "<div class=\"alert alert-success\">\n",
    "    <h3>Task: Check Code</h3>\n",
    "    <p>Take a look at the <code>Sigmoid</code> and the <code>Relu</code> class in <code>exercise_code/networks/layer.py</code> and the implementation of the respective forward and backward passes. Make sure to understand why we used <b>element-wise product</b> instead of dot product in the backward pass of the <code>Sigmoid</code> class to compute the gradient <code>dx</code>. That will be helpful for your later implementation of other activation functions.</p>\n",
    "    <p> <b>Note:</b> The <code>cache</code> variable is used to store information from the forward pass and then pass this information in the backward pass to make use of it there. The implementation of both classes shows that this variable can be used differently - depending on which information is needed in the backward pass. </p>\n",
    "</div>\n",
    "\n",
    "Now, we want to have a look at two other, very common activation functions that you have already seen in the lecture: Leaky ReLU activation function and Tanh activation function. \n",
    "\n",
    "**Leaky Relus** are one attempt to fix the “dying ReLU” problem. Instead of the function being zero when $ x < 0 $, a leaky ReLU has a small negative slope (for example, 0.01).  The function computes $f(x) = \\mathbb{1}(x < 0) (\\alpha x) + \\mathbb{1}(x>=0) (x)$ where $\\alpha$ is a small constant. Some people report success with this form of activation function, but the results are not always consistent.\n",
    "\n",
    "The **tanh non-linearity** squashes a real-valued number into the range [-1, 1]. Like the sigmoid neuron, its activations saturate, but unlike the sigmoid neuron its output is zero-centered. Therefore, in practice the tanh non-linearity is always preferred to the sigmoid non-linearity. Also note that the tanh neuron is simply a scaled sigmoid neuron, in particular the following holds: $\\tanh(x) = 2 \\cdot \\sigma(2x) -1$.\n",
    "\n",
    "<img class=left src=https://pytorch.org/docs/stable/_images/LeakyReLU.png alt=\"Figure3\" width=\"350\" align='left'/> \n",
    "<img class=right src=https://pytorch.org/docs/stable/_images/Tanh.png alt=\"Figure4\" width=\"350\"/>\n",
    "\n",
    "<div class=\"alert alert-info\">\n",
    "    <h3>Task: Implement Activation Layers</h3>\n",
    "    <p> Now, it is your turn to implement the <code>LeakyRelu</code> and the <code>Tanh</code> class in <code>exercise_code/networks/layer.py</code> by completing the <code>forward</code> and the <code>backward</code> functions. You can test your implementation in the following two cells. </p>\n",
    "    <p> <b>Note:</b> Always remember to return a cache in <code>forward</code> for later backpropagation in <code>backward</code>. As we have seen above, the <code>cache</code> variable can be used differently for two activation functions.</p>\n",
    "</div>\n",
    "\n",
    "Use this cell to test your implementation of the `LeakyRelu` class:"
   ]
  },
  {
   "cell_type": "code",
   "execution_count": 9,
   "metadata": {
    "colab": {
     "base_uri": "https://localhost:8080/"
    },
    "executionInfo": {
     "elapsed": 854,
     "status": "ok",
     "timestamp": 1650011740634,
     "user": {
      "displayName": "Weber Anna",
      "userId": "18154618360144454414"
     },
     "user_tz": -120
    },
    "id": "v0LYvwHmN5ei",
    "outputId": "e124210f-f387-45b4-cd23-b0444c894b10"
   },
   "outputs": [
    {
     "name": "stdout",
     "output_type": "stream",
     "text": [
      "\n",
      "####### Testing \u001b[96mLeakyReluTest\u001b[0m Started #######\n",
      "\n",
      "Test LeakyReluForwardTest: \u001b[92mpassed!\u001b[0m\n",
      "Test LeakyReluBackwardTest: \u001b[92mpassed!\u001b[0m\n",
      "\n",
      "####### Testing \u001b[96mLeakyReluTest\u001b[0m Finished #######\n",
      "Test LeakyReluTest: \u001b[92mpassed!\u001b[0m -->  Tests passed: \u001b[92m2\u001b[0m/\u001b[92m2\u001b[0m\n",
      "Score: \u001b[92m100\u001b[0m/\u001b[92m100\u001b[0m\n"
     ]
    }
   ],
   "source": [
    "from exercise_code.tests.layer_tests import *\n",
    "LeakyReluTestWrapper()()"
   ]
  },
  {
   "attachments": {},
   "cell_type": "markdown",
   "metadata": {
    "id": "kOkiYhe_N5ei"
   },
   "source": [
    "And this cell to test your implementation of the `Tanh` class:"
   ]
  },
  {
   "cell_type": "code",
   "execution_count": 16,
   "metadata": {
    "colab": {
     "base_uri": "https://localhost:8080/"
    },
    "executionInfo": {
     "elapsed": 11,
     "status": "ok",
     "timestamp": 1650011740635,
     "user": {
      "displayName": "Weber Anna",
      "userId": "18154618360144454414"
     },
     "user_tz": -120
    },
    "id": "Do-AHImrN5ei",
    "outputId": "b4c5a743-2ae6-4700-e052-4c9c4a220d08"
   },
   "outputs": [
    {
     "name": "stdout",
     "output_type": "stream",
     "text": [
      "\n",
      "####### Testing \u001b[96mTanhTest\u001b[0m Started #######\n",
      "\n",
      "Test TanhForwardTest: \u001b[92mpassed!\u001b[0m\n",
      "Test TanhBackwardTest: \u001b[92mpassed!\u001b[0m\n",
      "\n",
      "####### Testing \u001b[96mTanhTest\u001b[0m Finished #######\n",
      "Test TanhTest: \u001b[92mpassed!\u001b[0m -->  Tests passed: \u001b[92m2\u001b[0m/\u001b[92m2\u001b[0m\n",
      "Score: \u001b[92m100\u001b[0m/\u001b[92m100\u001b[0m\n"
     ]
    }
   ],
   "source": [
    "TanhTestWrapper()()"
   ]
  },
  {
   "attachments": {},
   "cell_type": "markdown",
   "metadata": {
    "id": "Mw_iJW4dN5ej"
   },
   "source": [
    "Congratulations, you implemented four different activation functions! These activation layers are now ready to be used when you start building your own network."
   ]
  },
  {
   "attachments": {},
   "cell_type": "markdown",
   "metadata": {
    "id": "3MhxqP2LN5ej"
   },
   "source": [
    "## 1.4 Loss\n",
    "\n",
    "In order to measure how well a network is performing, we implemented several ```Loss``` classes (```L1```, ```MSE```, ```BCE```, each preferred for a certain type of problems) in ```exercise_code/networks/loss.py```.\n",
    "\n",
    "Each contains a ```forward()``` method, which outputs a number we can use as a measure for our network's performance. \n",
    "\n",
    "Since our goal is to change the weights of the network in a way that this loss measure decreases, we are also interested in the gradients of the loss w.r.t the outputs of the network, $ \\nabla_{\\hat{y}} L({\\hat{y}}, {y}) $. This was implemented in ```backward()```. \n",
    "\n",
    "In previous exercises, we worked on binary classification problems and therefore used binary cross entropy (```BCE```) as a loss function.\n",
    "\n",
    "$$ BCE(\\hat{y}, y) = - \\frac{1}{N} \\sum_{i=1}^N \\Big(y_i \\log(\\hat{y_i}) + (1-y_i) \\log(1 - \\hat{y_i}) \\Big) $$ \n",
    "\n",
    "where\n",
    "- $ N $ was the number of samples we were considering\n",
    "- $\\hat{y}_i$ was the network's prediction for sample $i$. Note that this was a valid probability $\\in [0, 1]$, because we applied a [sigmoid](https://en.wikipedia.org/wiki/Sigmoid_function) activation on the last layer. \n",
    "- $ y_i $ was the ground truth label (0 or 1, depending on the class)\n",
    "\n",
    "Since we have 10 classes in the CIFAR10 dataset, we need a generalization of the binary cross entropy loss to multiple classes. This generalization is called the cross entropy loss and is defined as:\n",
    "$$ CE(\\hat{y}, y) = - \\frac{1}{N} \\sum_{i=1}^N \\sum_{k=1}^{C} \\Big(y_{ik} \\log(\\hat{y}_{ik}) \\Big) $$\n",
    "\n",
    "where:\n",
    "- $ N $ is the number of samples\n",
    "- $ C $ is the number of classes\n",
    "- $ \\hat{y}_{ik} $ is the probability that the model assigns for the $k$ th class when the $i$ th sample is the input. **Because we don't apply any activation function on the last layer of our network, its outputs for each sample will not be a valid probability distribution over the classes. We call these raw outputs of the network '[logits](https://datascience.stackexchange.com/questions/31041/what-does-logits-in-machine-learning-mean/31045)' and we will apply a [softmax](https://en.wikipedia.org/wiki/Softmax_function) activation in order to obtain a valid probability distribution.** \n",
    "- $y_{ik} = 1 $ iff the true label of the $i$ th sample is $k$ and 0 otherwise. This is called a [one-hot encoding](https://machinelearningmastery.com/why-one-hot-encode-data-in-machine-learning/).\n",
    "\n",
    "You can check for yourself that if the number of classes $ C $ is 2, the binary cross entropy is actually equivalent to the cross entropy.\n",
    "\n",
    "<div class=\"alert alert-success\">\n",
    "    <h3>Task: Check Code</h3>\n",
    "    <p>Please check the implementation of the <code>CrossEntropyFromLogits</code> class, which can be found in <code>../exercise_06/exercise_code/networks/loss.py</code>. </p>\n",
    "</div>"
   ]
  },
  {
   "cell_type": "code",
   "execution_count": 17,
   "metadata": {
    "id": "EBPuFF0BN5ej"
   },
   "outputs": [],
   "source": [
    "loss = CrossEntropyFromLogits"
   ]
  },
  {
   "attachments": {},
   "cell_type": "markdown",
   "metadata": {
    "id": "y1HcQs25N5ek"
   },
   "source": [
    "We can simply get the results of the forward and backward passes as follows:"
   ]
  },
  {
   "attachments": {},
   "cell_type": "markdown",
   "metadata": {
    "id": "Jv2aujOvN5ek"
   },
   "source": [
    "```python\n",
    "# y_out is the output of the neural network\n",
    "# y_truth is the actual label from the dataset\n",
    "loss.forward(y_out, y_truth)\n",
    "loss.backward(y_out, y_truth)\n",
    "```"
   ]
  },
  {
   "attachments": {},
   "cell_type": "markdown",
   "metadata": {
    "id": "dbFSP4z9N5ek"
   },
   "source": [
    "## 1.5 Optimizer\n",
    "\n",
    "Now that we know the gradient of the loss w.r.t the ouputs of the network, as well as the local gradient for each layer of the network, we can use the chain rule to compute all gradients. \n",
    "\n",
    "<div class=\"alert alert-success\">\n",
    "    <h3>Task: Check Code</h3>\n",
    "    <p>We implemented several optimizer classes <code>SGD</code>, <code>Adam</code>, <code>sgd_momentum</code> that use different first-order parameter update rules. Those can be found in <code>../exercise_06/exercise_code/networks/optimizer.py</code>. </p>\n",
    "    <p>The <code>step()</code> method used, iterates through all the parameters of the model and updates them using the gradient information.</p>\n",
    "</div>\n",
    "\n",
    "What the optimizer is doing, in pseudocode, is the following:\n",
    "\n",
    "```python\n",
    "for param in model:\n",
    "    # Use the gradient to update the weights.\n",
    "    update(param)\n",
    "    \n",
    "    # Reset the gradient after each update.\n",
    "    param.gradient = 0\n",
    "```\n",
    "\n",
    "```SGD``` had the simplest update rule:\n",
    "```python\n",
    "def update(param):\n",
    "    param = param - learning_rate * param.gradient\n",
    "```\n",
    "\n",
    "For the more complicated update rules, see ```exercise_code/networks/optimizer.py```"
   ]
  },
  {
   "attachments": {},
   "cell_type": "markdown",
   "metadata": {
    "id": "0TE2PxMBN5ek"
   },
   "source": [
    "## 1.6 Solver\n",
    "\n",
    "The ```Solver``` is where all the above elements come together: Given a train and a validation dataloader, a model, a loss and an optimizer, it uses the training data to optimize a model in order to get better predictions. We simply call ```train()``` and it does its 'magic' for us!\n",
    "```python\n",
    "solver = Solver(model, \n",
    "                dataloaders['train'], \n",
    "                dataloaders['val'], \n",
    "                learning_rate=0.001, \n",
    "                loss_func=MSE(), \n",
    "                optimizer=SGD)\n",
    "\n",
    "solver.train(epochs=epochs)\n",
    "```\n",
    "\n",
    "<div class=\"alert alert-success\">\n",
    "    <h3>Task: Check Code</h3>\n",
    "    <p>Please check out the implementation of <code>train()</code> in <code>../exercise_06/exercise_code/solver.py</code>. </p>\n",
    "</div>"
   ]
  },
  {
   "attachments": {},
   "cell_type": "markdown",
   "metadata": {
    "id": "QUFotyERN5ek"
   },
   "source": [
    "## 1.7 Weight Regularization\n",
    "\n",
    "Before finishing the recap, we want to take a look at some regularization methods that have been introduced in the lecture. Those can be helpful to improve the robustness of our model. In this chapter, we're talking about weight regularization methods.\n",
    "\n",
    "Weight regularization (a.k.a \"Weight Decay\") has been introduced to you as a method preventing the model from overfitting to the training data. \n",
    "\n",
    "The regularization term over the weights of the network is added to the loss:\n",
    "\n",
    "$$ L^* = \\underbrace{L}_{\\text{Overall loss}} + \\underbrace{\\lambda R(\\theta)}_{\\text{Regularization loss}} $$\n",
    "\n",
    "where $\\theta$ represents **ALL** the weights of the network, $\\theta = \\{W_1, \\dots, W_n\\}$ and $R(\\theta) \\in \\mathbb{R}.$\n",
    "\n",
    "Therefore, the backward step for each weight matrix $W_k \\in  \\theta$ is: \n",
    "\n",
    "$$\\frac{\\partial L}{\\partial W_k}^* = \\underbrace{\\frac{\\partial L}{\\partial W_k}}_{\\text{Gradient}}  + \\underbrace{\\lambda \\frac{\\partial R(\\theta)}{\\partial W_k}}_{\\text{Reg. loss gradient}}$$\n",
    "\n",
    "The usage of the regularization term encodes some preferences in manipulating the weights. In the lecture, we compared two weight regularization methods and their respective preference for weight vectors. We made the following observations: \n",
    "\n",
    "1. L1 regularization: Enforces sparsity \n",
    "2. L2 regularization: Enforces that weights have similar values\n",
    "\n",
    "The most common weight regularization method is the L2 regularization. The L2 regularization prefers smaller and more diffuse weight vectors. Therefore, the model is encouraged to take all input dimensions into account rather than focusing strongly on a small number of input dimensions.\n",
    "\n",
    "When using weight regularization, the loss function is a composition of two parts:\n",
    "\n",
    "The first being the data loss, which is calculated using Cross Entropy loss in our model. The second part is called the regularization loss $R(\\theta)$ and is computed in the L2 case as follows:\n",
    "$$R(\\theta) = \\sum_{k} \\sum_{i} \\sum_{j} w_{k,i,j}^2$$\n",
    "\n",
    "Where $k$ runs over all weight matrices in the network, and $i, j$ correspond to the spatial height and width of each weight matrix $W_k$."
   ]
  },
  {
   "attachments": {},
   "cell_type": "markdown",
   "metadata": {
    "id": "DxExi4hQN5el"
   },
   "source": [
    "# 2. An overview of hyperparameters"
   ]
  },
  {
   "attachments": {},
   "cell_type": "markdown",
   "metadata": {
    "collapsed": true,
    "id": "OdQde3JEN5el"
   },
   "source": [
    "\n",
    "<img src=https://images.deepai.org/glossary-terms/05c646fe1676490aa0b8cab0732a02b2/hyperparams.png alt=hyperparameter width=700>\n",
    "\n",
    "A **hyperparameter** is a parameter that is set before the learning process begins. Recall that the parameters of the weight matrix and the bias vector are learned during the learning process.\n",
    "\n",
    "The hyperparameter settings are essential, since they control and affect the whole training and therefore have a great impact on the model's performance. \n",
    "\n",
    "Some hyperparameters we have covered in lectures are:\n",
    "* Network architecture\n",
    "    * Choice of activation function\n",
    "    * Number of layers\n",
    "    * ...\n",
    "* Learning rate\n",
    "* Number of epochs\n",
    "* Batch size\n",
    "* Regularization strength\n",
    "* Momentum\n",
    "* ..."
   ]
  },
  {
   "attachments": {},
   "cell_type": "markdown",
   "metadata": {
    "id": "Rn6g8Zw1N5el"
   },
   "source": [
    "## 2.1 Start debugging your own network!"
   ]
  },
  {
   "attachments": {},
   "cell_type": "markdown",
   "metadata": {
    "id": "hUoj3OgzN5el"
   },
   "source": [
    "As already suggested in the lectures, you should always start from small and simple architectures, to make sure you are going the right way. \n",
    "\n",
    "As a first step you should try to overfit to a single training sample, then to a few batches of training samples and finally go deeper with larger neural networks and the whole training data.\n",
    "\n",
    "We provide a default neural network (i.e. ClassificationNet) with arbitrary number of layers, which is a generalization from a fixed 2-layer neural network in exercise 5. You are welcome to implement your own network, in that case just implement **MyOwnNetwork** in ```exercise_code/networks/classification_net.py```. You can also copy things from ClassficationNet and make little adjustments to your own network. Either way, just pick one network and comment out the other one, then run the cells below for debugging.\n",
    "\n",
    "<div class=\"alert alert-warning\">\n",
    "    <h3>Note:</h3>\n",
    "    <p>Please, make sure you don't modify the ClassificationNet itself. In this way you can always have a working network to fall back on.</p>\n",
    "    <p>In order to pass this submissions, you can <b>first stick to the default ClassificationNet implementation without changing any code at all</b>. The goal of this submission is to find reasonable hyperparameters and the parameter options of the ClassificationNet are broad enough to pass.</p>\n",
    "    <p>Once you have surpassed the submission goal, you can try to implement additional activation functions in the accompanying notebook, try different weight initializations or make other adjustments by writing your own network architecture in the MyOwnNetwork class.</p>\n",
    "</div>"
   ]
  },
  {
   "attachments": {},
   "cell_type": "markdown",
   "metadata": {
    "id": "gij9DxvmN5el"
   },
   "source": [
    "First, let's start with a 2-layer neural network, and overfit to one single training sample.\n",
    "\n",
    "After training, let's evaluate the training process by plotting the loss curves."
   ]
  },
  {
   "cell_type": "code",
   "execution_count": 18,
   "metadata": {
    "colab": {
     "base_uri": "https://localhost:8080/"
    },
    "executionInfo": {
     "elapsed": 20902,
     "status": "ok",
     "timestamp": 1650011761531,
     "user": {
      "displayName": "Weber Anna",
      "userId": "18154618360144454414"
     },
     "user_tz": -120
    },
    "id": "S1k3JrlsN5el",
    "outputId": "1193ba97-9871-489f-d6a5-f21a3869f09c"
   },
   "outputs": [
    {
     "name": "stdout",
     "output_type": "stream",
     "text": [
      "(Epoch 1 / 20) train loss: 2.294347; val loss: 2.306453\n",
      "(Epoch 2 / 20) train loss: 2.173395; val loss: 2.311478\n",
      "(Epoch 3 / 20) train loss: 2.029097; val loss: 2.318076\n",
      "(Epoch 4 / 20) train loss: 1.864385; val loss: 2.326538\n",
      "(Epoch 5 / 20) train loss: 1.691006; val loss: 2.337169\n",
      "(Epoch 6 / 20) train loss: 1.518900; val loss: 2.350237\n",
      "(Epoch 7 / 20) train loss: 1.355280; val loss: 2.365970\n",
      "(Epoch 8 / 20) train loss: 1.204681; val loss: 2.384573\n",
      "(Epoch 9 / 20) train loss: 1.065440; val loss: 2.406217\n",
      "(Epoch 10 / 20) train loss: 0.937481; val loss: 2.430988\n",
      "(Epoch 11 / 20) train loss: 0.821454; val loss: 2.458890\n",
      "(Epoch 12 / 20) train loss: 0.716561; val loss: 2.489857\n",
      "(Epoch 13 / 20) train loss: 0.622005; val loss: 2.523741\n",
      "(Epoch 14 / 20) train loss: 0.537237; val loss: 2.560292\n",
      "(Epoch 15 / 20) train loss: 0.462402; val loss: 2.599145\n",
      "(Epoch 16 / 20) train loss: 0.397829; val loss: 2.639846\n",
      "(Epoch 17 / 20) train loss: 0.342538; val loss: 2.681924\n",
      "(Epoch 18 / 20) train loss: 0.295298; val loss: 2.724914\n",
      "(Epoch 19 / 20) train loss: 0.255091; val loss: 2.768370\n",
      "(Epoch 20 / 20) train loss: 0.220994; val loss: 2.811879\n"
     ]
    }
   ],
   "source": [
    "from exercise_code.solver import Solver\n",
    "from exercise_code.networks.optimizer import SGD, Adam\n",
    "from exercise_code.networks import MyOwnNetwork\n",
    "\n",
    "num_layer = 2\n",
    "epochs = 20\n",
    "reg = 1e-6\n",
    "batch_size = 4\n",
    "\n",
    "model = ClassificationNet(num_layer=num_layer, reg=reg)\n",
    "# model = MyOwnNetwork()\n",
    "\n",
    "loss = CrossEntropyFromLogits\n",
    "\n",
    "# Make a new data loader with a single training image\n",
    "overfit_dataset = DATASET(\n",
    "    mode='train',\n",
    "    root=cifar_root, \n",
    "    download_url=download_url,\n",
    "    transform=compose_transform,\n",
    "    limit_files=1\n",
    ")\n",
    "dataloaders['train_overfit_single_image'] = DataLoader(\n",
    "    dataset=overfit_dataset,\n",
    "    batch_size=batch_size,\n",
    "    shuffle=True,\n",
    "    drop_last=False,\n",
    ")\n",
    "\n",
    "\n",
    "# Decrease validation data for only debugging\n",
    "debugging_validation_dataset = DATASET(\n",
    "    mode='val',\n",
    "    root=cifar_root, \n",
    "    download_url=download_url,\n",
    "    transform=compose_transform,\n",
    "    limit_files=100\n",
    ")\n",
    "dataloaders['val_500files'] = DataLoader(\n",
    "    dataset=debugging_validation_dataset,\n",
    "    batch_size=batch_size,\n",
    "    shuffle=True,\n",
    "    drop_last=True,\n",
    ")\n",
    "\n",
    "solver = Solver(model, dataloaders['train_overfit_single_image'], dataloaders['val_500files'], \n",
    "                learning_rate=1e-3, loss_func=loss, optimizer=Adam)\n",
    "\n",
    "solver.train(epochs=epochs)"
   ]
  },
  {
   "cell_type": "code",
   "execution_count": 19,
   "metadata": {
    "colab": {
     "base_uri": "https://localhost:8080/"
    },
    "executionInfo": {
     "elapsed": 434,
     "status": "ok",
     "timestamp": 1650011761941,
     "user": {
      "displayName": "Weber Anna",
      "userId": "18154618360144454414"
     },
     "user_tz": -120
    },
    "id": "aMc51VqHN5em",
    "outputId": "730d9eb6-6b24-4411-e6b9-c165a73a7e6e"
   },
   "outputs": [
    {
     "data": {
      "image/png": "[encoded data removed]",
      "text/plain": [
       "<Figure size 1000x800 with 1 Axes>"
      ]
     },
     "metadata": {},
     "output_type": "display_data"
    }
   ],
   "source": [
    "plt.title('Loss curves')\n",
    "plt.plot(solver.train_loss_history, '-', label='train')\n",
    "plt.plot(solver.val_loss_history, '-', label='val')\n",
    "plt.legend(loc='lower right')\n",
    "plt.xlabel('Iteration')\n",
    "plt.show()"
   ]
  },
  {
   "cell_type": "code",
   "execution_count": 20,
   "metadata": {
    "colab": {
     "base_uri": "https://localhost:8080/"
    },
    "executionInfo": {
     "elapsed": 244,
     "status": "ok",
     "timestamp": 1650011762177,
     "user": {
      "displayName": "Weber Anna",
      "userId": "18154618360144454414"
     },
     "user_tz": -120
    },
    "id": "cchvV2Q_N5em",
    "outputId": "6ba579ba-58ed-43e8-f3e7-97a51018ee4b"
   },
   "outputs": [
    {
     "name": "stdout",
     "output_type": "stream",
     "text": [
      "Training accuray: 1.00000\n",
      "Validation accuray: 0.07000\n"
     ]
    }
   ],
   "source": [
    "print(\"Training accuray: %.5f\" % (solver.get_dataset_accuracy(dataloaders['train_overfit_single_image'])))\n",
    "print(\"Validation accuray: %.5f\" % (solver.get_dataset_accuracy(dataloaders['val_500files'])))"
   ]
  },
  {
   "attachments": {},
   "cell_type": "markdown",
   "metadata": {
    "id": "HeTCu8wwN5em"
   },
   "source": [
    "This time we want to overfit to a small set of training batch samples. Please observe the difference from above. "
   ]
  },
  {
   "cell_type": "code",
   "execution_count": 21,
   "metadata": {
    "colab": {
     "base_uri": "https://localhost:8080/"
    },
    "executionInfo": {
     "elapsed": 32205,
     "status": "ok",
     "timestamp": 1650011794379,
     "user": {
      "displayName": "Weber Anna",
      "userId": "18154618360144454414"
     },
     "user_tz": -120
    },
    "id": "SsIu_JaUN5em",
    "outputId": "81810746-ea3e-4a60-f3b7-dad4230c7231"
   },
   "outputs": [
    {
     "name": "stdout",
     "output_type": "stream",
     "text": [
      "(Epoch 1 / 100) train loss: 2.285654; val loss: 2.339864\n",
      "(Epoch 2 / 100) train loss: 2.184179; val loss: 2.404058\n",
      "(Epoch 3 / 100) train loss: 2.073793; val loss: 2.462862\n",
      "(Epoch 4 / 100) train loss: 1.897433; val loss: 2.519303\n",
      "(Epoch 5 / 100) train loss: 1.947012; val loss: 2.604608\n",
      "(Epoch 6 / 100) train loss: 1.825010; val loss: 2.652202\n",
      "(Epoch 7 / 100) train loss: 1.797096; val loss: 2.726142\n",
      "(Epoch 8 / 100) train loss: 1.650958; val loss: 2.821884\n",
      "(Epoch 9 / 100) train loss: 1.715406; val loss: 2.899799\n",
      "(Epoch 10 / 100) train loss: 1.778572; val loss: 2.929512\n",
      "(Epoch 11 / 100) train loss: 1.680088; val loss: 2.936305\n",
      "(Epoch 12 / 100) train loss: 1.626903; val loss: 3.065746\n",
      "(Epoch 13 / 100) train loss: 1.608086; val loss: 3.175972\n",
      "(Epoch 14 / 100) train loss: 1.668271; val loss: 3.193894\n",
      "(Epoch 15 / 100) train loss: 1.583900; val loss: 3.144835\n",
      "(Epoch 16 / 100) train loss: 1.663721; val loss: 3.157860\n",
      "(Epoch 17 / 100) train loss: 1.707083; val loss: 3.212566\n",
      "(Epoch 18 / 100) train loss: 1.645879; val loss: 3.292113\n",
      "(Epoch 19 / 100) train loss: 1.727949; val loss: 3.282400\n",
      "(Epoch 20 / 100) train loss: 1.546355; val loss: 3.294221\n",
      "(Epoch 21 / 100) train loss: 1.526541; val loss: 3.351726\n",
      "(Epoch 22 / 100) train loss: 1.633128; val loss: 3.333373\n",
      "(Epoch 23 / 100) train loss: 1.557307; val loss: 3.321494\n",
      "(Epoch 24 / 100) train loss: 1.412432; val loss: 3.384119\n",
      "(Epoch 25 / 100) train loss: 1.544772; val loss: 3.439287\n",
      "(Epoch 26 / 100) train loss: 1.629777; val loss: 3.409613\n",
      "(Epoch 27 / 100) train loss: 1.451470; val loss: 3.390785\n",
      "(Epoch 28 / 100) train loss: 1.478424; val loss: 3.368684\n",
      "(Epoch 29 / 100) train loss: 1.580490; val loss: 3.395362\n",
      "(Epoch 30 / 100) train loss: 1.468258; val loss: 3.415669\n",
      "(Epoch 31 / 100) train loss: 1.495814; val loss: 3.395274\n",
      "(Epoch 32 / 100) train loss: 1.442939; val loss: 3.400465\n",
      "(Epoch 33 / 100) train loss: 1.410726; val loss: 3.425180\n",
      "(Epoch 34 / 100) train loss: 1.393133; val loss: 3.431054\n",
      "(Epoch 35 / 100) train loss: 1.341627; val loss: 3.431287\n",
      "(Epoch 36 / 100) train loss: 1.320291; val loss: 3.432498\n",
      "(Epoch 37 / 100) train loss: 1.278979; val loss: 3.449951\n",
      "(Epoch 38 / 100) train loss: 1.331402; val loss: 3.460398\n",
      "(Epoch 39 / 100) train loss: 1.252910; val loss: 3.493269\n",
      "(Epoch 40 / 100) train loss: 1.359044; val loss: 3.467955\n",
      "(Epoch 41 / 100) train loss: 1.396846; val loss: 3.424090\n",
      "(Epoch 42 / 100) train loss: 1.294898; val loss: 3.481334\n",
      "(Epoch 43 / 100) train loss: 1.267907; val loss: 3.530805\n",
      "(Epoch 44 / 100) train loss: 1.342296; val loss: 3.501542\n",
      "(Epoch 45 / 100) train loss: 1.275055; val loss: 3.496119\n",
      "(Epoch 46 / 100) train loss: 1.303685; val loss: 3.506314\n",
      "(Epoch 47 / 100) train loss: 1.174924; val loss: 3.510949\n",
      "(Epoch 48 / 100) train loss: 1.184015; val loss: 3.480063\n",
      "(Epoch 49 / 100) train loss: 1.171678; val loss: 3.464200\n",
      "(Epoch 50 / 100) train loss: 1.123684; val loss: 3.463859\n",
      "(Epoch 51 / 100) train loss: 1.256967; val loss: 3.494803\n",
      "(Epoch 52 / 100) train loss: 1.190691; val loss: 3.581557\n",
      "(Epoch 53 / 100) train loss: 1.270966; val loss: 3.630106\n",
      "(Epoch 54 / 100) train loss: 1.276279; val loss: 3.608391\n",
      "(Epoch 55 / 100) train loss: 1.158384; val loss: 3.558018\n",
      "(Epoch 56 / 100) train loss: 1.167835; val loss: 3.527753\n",
      "(Epoch 57 / 100) train loss: 1.105719; val loss: 3.534693\n",
      "(Epoch 58 / 100) train loss: 1.118713; val loss: 3.554104\n",
      "(Epoch 59 / 100) train loss: 1.146755; val loss: 3.561773\n",
      "(Epoch 60 / 100) train loss: 1.032525; val loss: 3.559286\n",
      "(Epoch 61 / 100) train loss: 1.032632; val loss: 3.533494\n",
      "(Epoch 62 / 100) train loss: 1.081893; val loss: 3.520433\n",
      "(Epoch 63 / 100) train loss: 1.002093; val loss: 3.539199\n",
      "(Epoch 64 / 100) train loss: 1.009278; val loss: 3.555585\n",
      "(Epoch 65 / 100) train loss: 1.005067; val loss: 3.551066\n",
      "(Epoch 66 / 100) train loss: 1.025556; val loss: 3.563292\n",
      "(Epoch 67 / 100) train loss: 1.018766; val loss: 3.608181\n",
      "(Epoch 68 / 100) train loss: 1.029249; val loss: 3.640321\n",
      "(Epoch 69 / 100) train loss: 1.012257; val loss: 3.621215\n",
      "(Epoch 70 / 100) train loss: 1.063621; val loss: 3.578943\n",
      "(Epoch 71 / 100) train loss: 1.074002; val loss: 3.575941\n",
      "(Epoch 72 / 100) train loss: 1.015561; val loss: 3.608953\n",
      "(Epoch 73 / 100) train loss: 0.989825; val loss: 3.623651\n",
      "(Epoch 74 / 100) train loss: 0.955146; val loss: 3.594755\n",
      "(Epoch 75 / 100) train loss: 0.955101; val loss: 3.537475\n",
      "(Epoch 76 / 100) train loss: 0.929371; val loss: 3.523151\n",
      "(Epoch 77 / 100) train loss: 0.902755; val loss: 3.543167\n",
      "(Epoch 78 / 100) train loss: 0.922729; val loss: 3.564267\n",
      "(Epoch 79 / 100) train loss: 0.901654; val loss: 3.585462\n",
      "(Epoch 80 / 100) train loss: 0.899365; val loss: 3.554451\n",
      "(Epoch 81 / 100) train loss: 0.916332; val loss: 3.569907\n",
      "(Epoch 82 / 100) train loss: 0.914208; val loss: 3.578835\n",
      "(Epoch 83 / 100) train loss: 0.970760; val loss: 3.567008\n",
      "(Epoch 84 / 100) train loss: 0.876876; val loss: 3.564520\n",
      "(Epoch 85 / 100) train loss: 0.941295; val loss: 3.571987\n",
      "(Epoch 86 / 100) train loss: 0.852770; val loss: 3.578122\n",
      "(Epoch 87 / 100) train loss: 0.911657; val loss: 3.561768\n",
      "(Epoch 88 / 100) train loss: 0.887248; val loss: 3.528751\n",
      "(Epoch 89 / 100) train loss: 0.883506; val loss: 3.549366\n",
      "(Epoch 90 / 100) train loss: 0.854375; val loss: 3.580397\n",
      "(Epoch 91 / 100) train loss: 0.864722; val loss: 3.578156\n",
      "(Epoch 92 / 100) train loss: 0.910486; val loss: 3.574541\n",
      "(Epoch 93 / 100) train loss: 0.915645; val loss: 3.629390\n",
      "(Epoch 94 / 100) train loss: 1.004421; val loss: 3.603267\n",
      "(Epoch 95 / 100) train loss: 0.891343; val loss: 3.615974\n",
      "(Epoch 96 / 100) train loss: 0.919546; val loss: 3.627531\n",
      "(Epoch 97 / 100) train loss: 0.964854; val loss: 3.612748\n",
      "(Epoch 98 / 100) train loss: 0.886305; val loss: 3.613592\n",
      "(Epoch 99 / 100) train loss: 0.834075; val loss: 3.562202\n",
      "(Epoch 100 / 100) train loss: 0.898983; val loss: 3.540259\n"
     ]
    }
   ],
   "source": [
    "from exercise_code.networks import MyOwnNetwork\n",
    "\n",
    "num_layer = 2\n",
    "epochs = 100\n",
    "reg = 0.1\n",
    "num_samples = 10\n",
    "\n",
    "model = ClassificationNet(num_layer=num_layer, reg=reg)\n",
    "# model = MyOwnNetwork()\n",
    "\n",
    "loss = CrossEntropyFromLogits\n",
    "\n",
    "# Make a new data loader with a our num_samples training image\n",
    "overfit_dataset = DATASET(\n",
    "    mode='train',\n",
    "    root=cifar_root, \n",
    "    download_url=download_url,\n",
    "    transform=compose_transform,\n",
    "    limit_files=num_samples\n",
    ")\n",
    "dataloaders['train_overfit_10samples'] = DataLoader(\n",
    "    dataset=overfit_dataset,\n",
    "    batch_size=batch_size,\n",
    "    shuffle=True,\n",
    "    drop_last=False,\n",
    ")\n",
    "\n",
    "solver = Solver(model, dataloaders['train_overfit_10samples'], dataloaders['val_500files'], \n",
    "                learning_rate=1e-3, loss_func=loss, optimizer=Adam)\n",
    "\n",
    "solver.train(epochs=epochs)"
   ]
  },
  {
   "cell_type": "code",
   "execution_count": 22,
   "metadata": {
    "colab": {
     "base_uri": "https://localhost:8080/"
    },
    "executionInfo": {
     "elapsed": 15,
     "status": "ok",
     "timestamp": 1650011794380,
     "user": {
      "displayName": "Weber Anna",
      "userId": "18154618360144454414"
     },
     "user_tz": -120
    },
    "id": "DmzTCYw_N5en",
    "outputId": "8076912f-608c-497c-e092-3da5e9e8ddcd"
   },
   "outputs": [
    {
     "data": {
      "image/png": "[encoded data removed]",
      "text/plain": [
       "<Figure size 1000x800 with 1 Axes>"
      ]
     },
     "metadata": {},
     "output_type": "display_data"
    }
   ],
   "source": [
    "plt.title('Loss curves')\n",
    "plt.plot(solver.train_loss_history, '-', label='train')\n",
    "plt.plot(solver.val_loss_history, '-', label='val')\n",
    "plt.legend(loc='lower right')\n",
    "plt.xlabel('Iteration')\n",
    "plt.show()"
   ]
  },
  {
   "cell_type": "code",
   "execution_count": 23,
   "metadata": {
    "colab": {
     "base_uri": "https://localhost:8080/"
    },
    "executionInfo": {
     "elapsed": 822,
     "status": "ok",
     "timestamp": 1650011795194,
     "user": {
      "displayName": "Weber Anna",
      "userId": "18154618360144454414"
     },
     "user_tz": -120
    },
    "id": "8H8xyMcaN5en",
    "outputId": "55c1d949-949d-414f-8a34-fa85faa9ed9b"
   },
   "outputs": [
    {
     "name": "stdout",
     "output_type": "stream",
     "text": [
      "Training accuray: 1.00000\n",
      "Validation accuray: 0.07000\n"
     ]
    }
   ],
   "source": [
    "print(\"Training accuray: %.5f\" % (solver.get_dataset_accuracy(dataloaders['train_overfit_10samples'])))\n",
    "print(\"Validation accuray: %.5f\" % (solver.get_dataset_accuracy(dataloaders['val_500files'])))"
   ]
  },
  {
   "attachments": {},
   "cell_type": "markdown",
   "metadata": {
    "id": "7PoTJskAN5en"
   },
   "source": [
    "If you're overfitting to the training data, that means the network's implementation is correct. However, as you have more samples to overfit, your accuracy will be way lower. You can increase the number of epochs above to achieve better results.\n",
    "\n",
    "Now let's try to feed all the training and validation data into the network, but this time let's set compare a 2-layer and a 5-layer network, using the same hyperparameters.\n",
    "\n",
    "<div class=\"alert alert-warning\">\n",
    "    <h3>Note:</h3>\n",
    "    <p>This may take about 1 min per epoch as the training set is quite large. For convenience, we are now only using 1000 images for training but use the full validation set.</p>\n",
    "</div>"
   ]
  },
  {
   "cell_type": "code",
   "execution_count": 24,
   "metadata": {
    "colab": {
     "background_save": true
    },
    "id": "ayhMGBUBN5en",
    "outputId": "0f77d4ee-a8c9-4ddc-e538-c1818c306acf"
   },
   "outputs": [
    {
     "name": "stdout",
     "output_type": "stream",
     "text": [
      "(Epoch 1 / 5) train loss: 2.258033; val loss: 2.152057\n",
      "(Epoch 2 / 5) train loss: 2.086578; val loss: 2.084361\n",
      "(Epoch 3 / 5) train loss: 1.977454; val loss: 2.048182\n",
      "(Epoch 4 / 5) train loss: 1.891146; val loss: 2.026482\n",
      "(Epoch 5 / 5) train loss: 1.795712; val loss: 2.028020\n"
     ]
    }
   ],
   "source": [
    "from exercise_code.networks import MyOwnNetwork\n",
    "\n",
    "num_layer = 2\n",
    "epochs = 5\n",
    "reg = 1e-4\n",
    "\n",
    "# Make a new data loader with 1000 training samples\n",
    "num_samples = 500\n",
    "overfit_dataset = DATASET(\n",
    "    mode='train',\n",
    "    root=cifar_root, \n",
    "    download_url=download_url,\n",
    "    transform=compose_transform,\n",
    "    limit_files=num_samples\n",
    ")\n",
    "dataloaders['train_small'] = DataLoader(\n",
    "    dataset=overfit_dataset,\n",
    "    batch_size=batch_size,\n",
    "    shuffle=True,\n",
    "    drop_last=False,\n",
    ")\n",
    "\n",
    "\n",
    "\n",
    "\n",
    "# Change here if you want to use the full training set\n",
    "use_full_training_set = False\n",
    "if use_full_training_set:\n",
    "    train_loader =  dataloaders['train']\n",
    "else:\n",
    "    train_loader = dataloaders['train_small']\n",
    "    \n",
    "\n",
    "model = ClassificationNet(num_layer=num_layer, reg=reg)\n",
    "# model = MyOwnNetwork()\n",
    "\n",
    "loss = CrossEntropyFromLogits\n",
    "\n",
    "solver = Solver(model, train_loader, dataloaders['val'], \n",
    "                learning_rate=1e-3, loss_func=loss, optimizer=Adam)\n",
    "\n",
    "solver.train(epochs=epochs)"
   ]
  },
  {
   "cell_type": "code",
   "execution_count": 25,
   "metadata": {
    "colab": {
     "background_save": true
    },
    "id": "3htGtgttN5en",
    "outputId": "6336d86c-13c1-40e5-9080-7aa5ed774959"
   },
   "outputs": [
    {
     "data": {
      "image/png": "[encoded data removed]",
      "text/plain": [
       "<Figure size 1000x800 with 1 Axes>"
      ]
     },
     "metadata": {},
     "output_type": "display_data"
    }
   ],
   "source": [
    "plt.title('Loss curves')\n",
    "plt.plot(solver.train_loss_history, '-', label='train')\n",
    "plt.plot(solver.val_loss_history, '-', label='val')\n",
    "plt.legend(loc='lower right')\n",
    "plt.xlabel('Iteration')\n",
    "plt.show()"
   ]
  },
  {
   "cell_type": "code",
   "execution_count": 26,
   "metadata": {
    "colab": {
     "background_save": true
    },
    "id": "oOVafQ7yN5eo",
    "outputId": "7207ecce-50aa-4e80-83ee-1d05529ab23a"
   },
   "outputs": [
    {
     "name": "stdout",
     "output_type": "stream",
     "text": [
      "Training accuray: 0.46600\n",
      "Validation accuray: 0.27815\n"
     ]
    }
   ],
   "source": [
    "print(\"Training accuray: %.5f\" % (solver.get_dataset_accuracy(train_loader)))\n",
    "print(\"Validation accuray: %.5f\" % (solver.get_dataset_accuracy(dataloaders['val'])))"
   ]
  },
  {
   "cell_type": "code",
   "execution_count": 27,
   "metadata": {
    "colab": {
     "background_save": true
    },
    "id": "vG9U5OmwN5eo",
    "outputId": "4aa8426b-eea9-4be8-bc08-6add66c4cf82"
   },
   "outputs": [
    {
     "name": "stdout",
     "output_type": "stream",
     "text": [
      "(Epoch 1 / 5) train loss: 2.315489; val loss: 2.305227\n",
      "(Epoch 2 / 5) train loss: 2.302554; val loss: 2.307221\n",
      "(Epoch 3 / 5) train loss: 2.302796; val loss: 2.305772\n",
      "(Epoch 4 / 5) train loss: 2.301402; val loss: 2.307386\n",
      "(Epoch 5 / 5) train loss: 2.301414; val loss: 2.306428\n"
     ]
    }
   ],
   "source": [
    "from exercise_code.networks import MyOwnNetwork\n",
    "\n",
    "num_layer = 5\n",
    "epochs = 5\n",
    "reg = 1e-4\n",
    "\n",
    "model = ClassificationNet(num_layer=num_layer, reg=reg)\n",
    "# model = MyOwnNetwork()\n",
    "\n",
    "# Change here if you want to use the full training set\n",
    "use_full_training_set = False\n",
    "if not use_full_training_set:\n",
    "    train_loader = dataloaders['train_small']\n",
    "else:\n",
    "    train_loader = dataloaders['train']\n",
    "\n",
    "loss = CrossEntropyFromLogits\n",
    "\n",
    "solver = Solver(model, train_loader, dataloaders['val'], \n",
    "                learning_rate=1e-3, loss_func=loss, optimizer=Adam)\n",
    "\n",
    "solver.train(epochs=epochs)"
   ]
  },
  {
   "cell_type": "code",
   "execution_count": 28,
   "metadata": {
    "colab": {
     "background_save": true
    },
    "id": "08XZk2GYN5eo",
    "outputId": "3d04c7c9-a0ce-4522-c858-e9491fca8102"
   },
   "outputs": [
    {
     "data": {
      "image/png": "[encoded data removed]",
      "text/plain": [
       "<Figure size 1000x800 with 1 Axes>"
      ]
     },
     "metadata": {},
     "output_type": "display_data"
    }
   ],
   "source": [
    "plt.title('Loss curves')\n",
    "plt.plot(solver.train_loss_history, '-', label='train')\n",
    "plt.plot(solver.val_loss_history, '-', label='val')\n",
    "plt.legend(loc='lower right')\n",
    "plt.xlabel('Iteration')\n",
    "plt.show()"
   ]
  },
  {
   "cell_type": "code",
   "execution_count": 29,
   "metadata": {
    "colab": {
     "background_save": true
    },
    "id": "7-sI0yyWN5eo",
    "outputId": "29f489a2-6899-410e-9e82-8026cb77d505"
   },
   "outputs": [
    {
     "name": "stdout",
     "output_type": "stream",
     "text": [
      "Training accuray: 0.11600\n",
      "Validation accuray: 0.09806\n"
     ]
    }
   ],
   "source": [
    "print(\"Training accuray: %.5f\" % (solver.get_dataset_accuracy(train_loader)))\n",
    "print(\"Validation accuray: %.5f\" % (solver.get_dataset_accuracy(dataloaders['val'])))"
   ]
  },
  {
   "attachments": {},
   "cell_type": "markdown",
   "metadata": {
    "id": "_nNdnSi4N5eo"
   },
   "source": [
    "As you can see from above, the same hyperparameter set can decrease the loss for a 2-layer network, but for 5-layer network, it hardly works.\n",
    "\n",
    "The steps above are already mentioned in the lectures as debugging steps before training a neural network. \n",
    "\n",
    "If you implement your own network, make sure you do the steps above before tuning the hyperparameters as below. "
   ]
  },
  {
   "attachments": {},
   "cell_type": "markdown",
   "metadata": {
    "id": "l0pZa4weN5eo"
   },
   "source": [
    "## 2.2 Difficulty in tuning hyperparameters\n",
    "Small decisions on hyperparameters count. Usually, but not always, hyperparameters cannot be learned using well known gradient based methods (such as gradient descent), which are commonly employed to learn parameters. \n",
    "\n",
    "As mentioned before, hyperparameters need to be set before training. Tuning hyperparameters is hard, because you always have to try different combinations of the hyperparameters, train the network, do the validation and pick the best one. Besides, it is not guaranteed that you'll find the best combination.\n",
    "\n",
    "Let's do some hands on learning using the hyperparameter tuning methods covered in the lectures."
   ]
  },
  {
   "attachments": {},
   "cell_type": "markdown",
   "metadata": {
    "id": "pDQl6fY6N5ep"
   },
   "source": [
    "# 3. Hyperparameter Tuning\n",
    "\n",
    "One of the main challenges in deep learning is finding the set of hyperparameters that performs best.\n",
    "\n",
    "So far, we have followed a manual approach by guessing hyperparameters, running the model, observing the result and maybe tweaking the hyperparameters based on this result. As you have probably noticed, this manual hyperparameter tuning is unstructured, inefficient and can become very tedious.\n",
    "\n",
    "\n",
    "A more systematic (and actually very simple) approach for hyperparameter tuning that you've already learned in the lecture  is implementing a **Grid Search**. \n",
    "\n",
    "\n",
    "\n",
    "## 3.1 Grid Search\n",
    "Grid search is a simple and naive, yet effective method to automate the hyperparameter tuning:\n",
    "\n",
    "* First, you define the set of parameters you want to tune, e.g. $\\{learning\\_rate, regularization\\_strength\\}$.\n",
    "\n",
    "* For each hyperparameter, you then define a set of possible values, e.g. $learning\\_rate = \\{0.0001, 0.001, 0.01, 0.1\\}$.\n",
    "\n",
    "* Then, you train a model for every possible combination of these hyperparameter values and afterwards select the combination that works best (e.g. in terms of accuracy on your validation set).\n",
    "\n",
    "<div class=\"alert alert-success\">\n",
    "    <h3>Task: Check Code</h3>\n",
    "    <p>Check out our <code>grid_search</code> implementation in <code>../exercise_6/exercise_code/hyperparameter_tuning.py</code>. We show a simple for loop implementation and a more sophisticated one for multiple inputs. </p>\n",
    "</div>\n",
    " \n",
    " <div class=\"alert alert-warning\">\n",
    "    <h3>Note:</h3>\n",
    "    <p>To keep things simple in the beginning, it'll be enough to just focus on the hyperparameters <code>learning_rate</code> and <code>regularization_strength</code> here, as in the example above.</p>\n",
    "</div>"
   ]
  },
  {
   "cell_type": "code",
   "execution_count": 30,
   "metadata": {
    "colab": {
     "background_save": true
    },
    "id": "BBW9Vl4rN5ep",
    "outputId": "39d57fd3-e250-4826-d0b6-89952b9ae73b"
   },
   "outputs": [
    {
     "name": "stdout",
     "output_type": "stream",
     "text": [
      "\n",
      "Evaluating Config #1 [of 3]:\n",
      " {'learning_rate': 0.01, 'reg': 0.0001}\n",
      "(Epoch 1 / 10) train loss: 2.530499; val loss: 2.354637\n",
      "(Epoch 2 / 10) train loss: 2.494866; val loss: 2.542912\n",
      "(Epoch 3 / 10) train loss: 2.630355; val loss: 2.733949\n",
      "(Epoch 4 / 10) train loss: 2.718331; val loss: 2.767503\n",
      "(Epoch 5 / 10) train loss: 2.793865; val loss: 3.178692\n",
      "(Epoch 6 / 10) train loss: 2.940141; val loss: 3.013159\n",
      "Stopping early at epoch 5!\n",
      "\n",
      "Evaluating Config #2 [of 3]:\n",
      " {'learning_rate': 0.001, 'reg': 0.0001}\n",
      "(Epoch 1 / 10) train loss: 2.271425; val loss: 2.166569\n",
      "(Epoch 2 / 10) train loss: 2.098826; val loss: 2.030061\n",
      "(Epoch 3 / 10) train loss: 1.974465; val loss: 1.983778\n",
      "(Epoch 4 / 10) train loss: 1.871272; val loss: 1.935068\n",
      "(Epoch 5 / 10) train loss: 1.766893; val loss: 1.933277\n",
      "(Epoch 6 / 10) train loss: 1.693555; val loss: 1.946087\n",
      "(Epoch 7 / 10) train loss: 1.596361; val loss: 1.902263\n",
      "(Epoch 8 / 10) train loss: 1.530646; val loss: 1.872556\n",
      "(Epoch 9 / 10) train loss: 1.422565; val loss: 1.961970\n",
      "(Epoch 10 / 10) train loss: 1.349438; val loss: 1.976270\n",
      "\n",
      "Evaluating Config #3 [of 3]:\n",
      " {'learning_rate': 0.0001, 'reg': 0.0001}\n",
      "(Epoch 1 / 10) train loss: 2.298609; val loss: 2.286474\n",
      "(Epoch 2 / 10) train loss: 2.271493; val loss: 2.249799\n",
      "(Epoch 3 / 10) train loss: 2.231502; val loss: 2.208557\n",
      "(Epoch 4 / 10) train loss: 2.186343; val loss: 2.166668\n",
      "(Epoch 5 / 10) train loss: 2.141681; val loss: 2.140537\n",
      "(Epoch 6 / 10) train loss: 2.101638; val loss: 2.108549\n",
      "(Epoch 7 / 10) train loss: 2.066011; val loss: 2.085156\n",
      "(Epoch 8 / 10) train loss: 2.034256; val loss: 2.066654\n",
      "(Epoch 9 / 10) train loss: 2.002687; val loss: 2.058920\n",
      "(Epoch 10 / 10) train loss: 1.972769; val loss: 2.049604\n",
      "\n",
      "Search done. Best Val Loss = 1.8725563367381242\n",
      "Best Config: {'learning_rate': 0.001, 'reg': 0.0001}\n"
     ]
    }
   ],
   "source": [
    "from exercise_code.networks import MyOwnNetwork\n",
    "\n",
    "# Specify the used network\n",
    "model_class = ClassificationNet\n",
    "\n",
    "from exercise_code import hyperparameter_tuning\n",
    "best_model, best_config, results  = hyperparameter_tuning.grid_search(\n",
    "    dataloaders['train_small'], dataloaders['val_500files'],\n",
    "    grid_search_spaces = {\n",
    "        \"learning_rate\": [1e-2, 1e-3, 1e-4], \n",
    "        \"reg\": [1e-4]\n",
    "    },\n",
    "    model_class=model_class,\n",
    "    epochs=10, patience=5)"
   ]
  },
  {
   "attachments": {},
   "cell_type": "markdown",
   "metadata": {
    "id": "5v0g7q9xN5ep"
   },
   "source": [
    "From the results of your grid search, you might already have found some hyperparameter combinations that work better than others. A common practice is to now repeat the grid search on a more narrow domain centered around the parameters that worked best. \n",
    "\n",
    "**Conclusion Grid Search**\n",
    "\n",
    "With grid search we have automated the hyperparameter tuning to a certain degree. Another advantage is, that since the trainings of the models are independent of each other, you can parallelize the grid search, by e.g. trying out different hyperparameter configurations in parallel on different machines.\n",
    "\n",
    "However, as you have probably noticed, there is one big problem with this approach: the number of possible combinations grows exponentially with the number of hyperparameters (\"curse of dimensionality\"). As we add more hyperparameters to the grid search, the search space will explode in time complexity, making this strategy unfeasible."
   ]
  },
  {
   "attachments": {},
   "cell_type": "markdown",
   "metadata": {
    "id": "m_NvhoFcN5ep"
   },
   "source": [
    "Especially when your search space contains more than 3 or 4 dimensions, it is often better to use another, similar hyperparameter tuning method that you've already learned about: random search."
   ]
  },
  {
   "attachments": {},
   "cell_type": "markdown",
   "metadata": {
    "id": "rDyeiAN1N5ep"
   },
   "source": [
    "## 3.2 Random Search\n",
    "Random search is very similar to grid search, with the only difference, that instead of providing specific values for every hyperparameter, you only define a range for each hyperparameter - then, the values are sampled randomly from the provided ranges.\n",
    "\n",
    "![alt text](https://i.stack.imgur.com/cIDuR.png \"\")\n",
    "\n",
    "The figure above illustrates the difference in the hyperparameter space exploration between grid search and random search: assume you have 2 hyperparameters with each 3 values. Running a grid search results in training $3^2=9$ different models - but in the end, you've just tired out 3 values for each parameter. For random search on the other hand, after training 9 models you'll have tried out 9 different values for each hyperparameter, which often leads much faster to good results.\n",
    "\n",
    "To get a deeper understanding of random search and why it is more efficient than grid search, you should definitely check out this paper: http://www.jmlr.org/papers/volume13/bergstra12a/bergstra12a.pdf\n",
    "\n",
    "<div class=\"alert alert-success\">\n",
    "    <h3>Task: Check Code</h3>\n",
    "    <p>Check out our <code>random_search</code> implementation in <code>../exercise_6/exercise_code/hyperparameter_tuning.py</code></p>\n",
    "</div>\n",
    "\n",
    "\n",
    "*Hint: regarding the sample space of each parameter, think about the scale for which it makes most sense to sample in. For example the learning rate is usually sampled on a logarithmic scale!*\n",
    "\n",
    "*For simplicity and speed, just use the `train_small`-dataloader!*"
   ]
  },
  {
   "cell_type": "code",
   "execution_count": 31,
   "metadata": {
    "colab": {
     "background_save": true
    },
    "id": "d64soT68N5ep",
    "outputId": "eafe47b6-33db-401e-8d4e-96573caa8048"
   },
   "outputs": [
    {
     "name": "stdout",
     "output_type": "stream",
     "text": [
      "\n",
      "Evaluating Config #1 [of 5]:\n",
      " {'learning_rate': 0.00016355140847491888, 'reg': 2.0207594247120226e-06, 'loss_func': <class 'exercise_code.networks.loss.CrossEntropyFromLogits'>, 'num_layer': 3}\n",
      "(Epoch 1 / 20) train loss: 2.304191; val loss: 2.304071\n",
      "(Epoch 2 / 20) train loss: 2.301879; val loss: 2.306589\n",
      "(Epoch 3 / 20) train loss: 2.299734; val loss: 2.306517\n",
      "(Epoch 4 / 20) train loss: 2.299806; val loss: 2.306890\n",
      "(Epoch 5 / 20) train loss: 2.299981; val loss: 2.308776\n",
      "(Epoch 6 / 20) train loss: 2.297187; val loss: 2.307401\n",
      "Stopping early at epoch 5!\n",
      "\n",
      "Evaluating Config #2 [of 5]:\n",
      " {'learning_rate': 0.0011990698820208397, 'reg': 1.2035637511961427e-07, 'loss_func': <class 'exercise_code.networks.loss.CrossEntropyFromLogits'>, 'num_layer': 3}\n",
      "(Epoch 1 / 20) train loss: 2.299988; val loss: 2.245640\n",
      "(Epoch 2 / 20) train loss: 2.243695; val loss: 2.190904\n",
      "(Epoch 3 / 20) train loss: 2.188376; val loss: 2.188371\n",
      "(Epoch 4 / 20) train loss: 2.159921; val loss: 2.186793\n",
      "(Epoch 5 / 20) train loss: 2.138661; val loss: 2.181277\n",
      "(Epoch 6 / 20) train loss: 2.118856; val loss: 2.153708\n",
      "(Epoch 7 / 20) train loss: 2.100525; val loss: 2.159406\n",
      "(Epoch 8 / 20) train loss: 2.076217; val loss: 2.144767\n",
      "(Epoch 9 / 20) train loss: 2.054406; val loss: 2.145537\n",
      "(Epoch 10 / 20) train loss: 2.044786; val loss: 2.150905\n",
      "(Epoch 11 / 20) train loss: 2.030690; val loss: 2.097781\n",
      "(Epoch 12 / 20) train loss: 2.003897; val loss: 2.104170\n",
      "(Epoch 13 / 20) train loss: 1.986734; val loss: 2.101973\n",
      "(Epoch 14 / 20) train loss: 1.959419; val loss: 2.077809\n",
      "(Epoch 15 / 20) train loss: 1.930155; val loss: 2.072358\n",
      "(Epoch 16 / 20) train loss: 1.878432; val loss: 2.054034\n",
      "(Epoch 17 / 20) train loss: 1.845212; val loss: 2.045058\n",
      "(Epoch 18 / 20) train loss: 1.810259; val loss: 2.026611\n",
      "(Epoch 19 / 20) train loss: 1.793875; val loss: 2.064856\n",
      "(Epoch 20 / 20) train loss: 1.756531; val loss: 2.022956\n",
      "\n",
      "Evaluating Config #3 [of 5]:\n",
      " {'learning_rate': 0.00012624239809409674, 'reg': 0.0003770394202791547, 'loss_func': <class 'exercise_code.networks.loss.CrossEntropyFromLogits'>, 'num_layer': 3}\n",
      "(Epoch 1 / 20) train loss: 2.304381; val loss: 2.305234\n",
      "(Epoch 2 / 20) train loss: 2.300897; val loss: 2.307245\n",
      "(Epoch 3 / 20) train loss: 2.299481; val loss: 2.306743\n",
      "(Epoch 4 / 20) train loss: 2.300480; val loss: 2.307702\n",
      "(Epoch 5 / 20) train loss: 2.299463; val loss: 2.307814\n",
      "(Epoch 6 / 20) train loss: 2.299243; val loss: 2.307785\n",
      "Stopping early at epoch 5!\n",
      "\n",
      "Evaluating Config #4 [of 5]:\n",
      " {'learning_rate': 0.00033410427620943016, 'reg': 0.00013353893267232505, 'loss_func': <class 'exercise_code.networks.loss.CrossEntropyFromLogits'>, 'num_layer': 3}\n",
      "(Epoch 1 / 20) train loss: 2.307421; val loss: 2.304948\n",
      "(Epoch 2 / 20) train loss: 2.302135; val loss: 2.306568\n",
      "(Epoch 3 / 20) train loss: 2.298315; val loss: 2.295865\n",
      "(Epoch 4 / 20) train loss: 2.283477; val loss: 2.276899\n",
      "(Epoch 5 / 20) train loss: 2.256343; val loss: 2.237492\n",
      "(Epoch 6 / 20) train loss: 2.221424; val loss: 2.190148\n",
      "(Epoch 7 / 20) train loss: 2.193959; val loss: 2.189178\n",
      "(Epoch 8 / 20) train loss: 2.172951; val loss: 2.205475\n",
      "(Epoch 9 / 20) train loss: 2.149499; val loss: 2.128644\n",
      "(Epoch 10 / 20) train loss: 2.128904; val loss: 2.131968\n",
      "(Epoch 11 / 20) train loss: 2.105240; val loss: 2.121573\n",
      "(Epoch 12 / 20) train loss: 2.081605; val loss: 2.119514\n",
      "(Epoch 13 / 20) train loss: 2.061707; val loss: 2.104890\n",
      "(Epoch 14 / 20) train loss: 2.049357; val loss: 2.124072\n",
      "(Epoch 15 / 20) train loss: 2.038027; val loss: 2.103298\n",
      "(Epoch 16 / 20) train loss: 2.025180; val loss: 2.097262\n",
      "(Epoch 17 / 20) train loss: 2.012740; val loss: 2.088556\n",
      "(Epoch 18 / 20) train loss: 2.001251; val loss: 2.088712\n",
      "(Epoch 19 / 20) train loss: 1.995040; val loss: 2.084418\n",
      "(Epoch 20 / 20) train loss: 1.993882; val loss: 2.099657\n",
      "\n",
      "Evaluating Config #5 [of 5]:\n",
      " {'learning_rate': 3.344544881596802e-06, 'reg': 0.0007776023197606313, 'loss_func': <class 'exercise_code.networks.loss.CrossEntropyFromLogits'>, 'num_layer': 3}\n",
      "(Epoch 1 / 20) train loss: 2.302817; val loss: 2.302557\n",
      "(Epoch 2 / 20) train loss: 2.302639; val loss: 2.302567\n",
      "(Epoch 3 / 20) train loss: 2.302401; val loss: 2.302604\n",
      "(Epoch 4 / 20) train loss: 2.302243; val loss: 2.302536\n",
      "(Epoch 5 / 20) train loss: 2.302067; val loss: 2.302612\n",
      "(Epoch 6 / 20) train loss: 2.301844; val loss: 2.302577\n",
      "(Epoch 7 / 20) train loss: 2.301722; val loss: 2.302504\n",
      "(Epoch 8 / 20) train loss: 2.301514; val loss: 2.302543\n",
      "(Epoch 9 / 20) train loss: 2.301348; val loss: 2.302620\n",
      "(Epoch 10 / 20) train loss: 2.301180; val loss: 2.302595\n",
      "(Epoch 11 / 20) train loss: 2.301042; val loss: 2.302615\n",
      "(Epoch 12 / 20) train loss: 2.300908; val loss: 2.302634\n",
      "Stopping early at epoch 11!\n",
      "\n",
      "Search done. Best Val Loss = 2.022955987838427\n",
      "Best Config: {'learning_rate': 0.0011990698820208397, 'reg': 1.2035637511961427e-07, 'loss_func': <class 'exercise_code.networks.loss.CrossEntropyFromLogits'>, 'num_layer': 3}\n"
     ]
    }
   ],
   "source": [
    "from exercise_code.hyperparameter_tuning import random_search\n",
    "from exercise_code.networks import MyOwnNetwork\n",
    "\n",
    "# Specify the used network\n",
    "model_class = ClassificationNet\n",
    "\n",
    "best_model, best_config, results  = random_search(\n",
    "    dataloaders['train_small'], dataloaders['val_500files'],\n",
    "    random_search_spaces = {\n",
    "        \"learning_rate\": ([1e-2, 1e-6], 'log'),\n",
    "        \"reg\": ([1e-3, 1e-7], \"log\"),\n",
    "        \"loss_func\": ([CrossEntropyFromLogits], \"item\"),\n",
    "        \"num_layer\": ([3], \"int\"),\n",
    "    },\n",
    "    model_class=model_class,\n",
    "    num_search = 5, epochs=20, patience=5)"
   ]
  },
  {
   "attachments": {},
   "cell_type": "markdown",
   "metadata": {
    "id": "LayF5YYbN5eq"
   },
   "source": [
    "It's time to run it with the whole dataset, and let it search for a few hours for a nice configuration. \n",
    "\n",
    "However, to save some time, let's first implement an **early-stopping** mechanism, that you also already know from the lecture."
   ]
  },
  {
   "attachments": {},
   "cell_type": "markdown",
   "metadata": {
    "id": "DCaACnn3N5eq"
   },
   "source": [
    "## 3.3 Early Stopping"
   ]
  },
  {
   "attachments": {},
   "cell_type": "markdown",
   "metadata": {
    "id": "IjsO1OPLN5eq"
   },
   "source": [
    "By now you've already seen a lot of training curves:\n",
    "\n",
    "<img src=http://fouryears.eu/wp-content/uploads/2017/12/early_stopping.png></img>\n",
    "\n",
    "Usually, at some point the validation loss goes up again, which is a sign that we're overfitting to our training data. Since it actually doesn't make sense to train further at this point, it's common practice to apply \"early stopping\", i.e., cancel the training process when the validation loss doesn't improve anymore. The nice thing about this concept is, that not only it improves generalization through the prevention of overfitting, but also it saves us a lot of time - one of our most valuable resources in deep learning.\n",
    "\n",
    "Since there are natural fluctuations in the validation loss, you usually don't cancel the training process right at the first epoch when the validation-loss increases, but instead, you wait for some epochs (specified by the `patience`-parameter) and if the loss still doesn't improve, we stop.\n",
    "\n",
    "<div class=\"alert alert-success\">\n",
    "    <h3>Task: Check Code</h3>\n",
    "    <p>Please check the implementation of the early stopping mechanism in <code>../exercise_6/exercise_code/solver.py</code>.\n",
    " </p>\n",
    "</div>"
   ]
  },
  {
   "attachments": {},
   "cell_type": "markdown",
   "metadata": {
    "id": "P8wWTovfN5eq"
   },
   "source": [
    "## 3.4 Let's find the perfect model!"
   ]
  },
  {
   "attachments": {},
   "cell_type": "markdown",
   "metadata": {
    "id": "ksUYQAhgN5eq"
   },
   "source": [
    "Now you've set everything up and you are ready to train your model. You can use a combination of grid and random search to find proper hyperparameters. \n",
    "\n",
    "Be aware that this process will take some time, since we'll be using a much larger dataset.\n",
    "\n",
    "At the beginning, it is a good approach to do a coarse random search across a wide range of values to find promising sub-ranges of your parameter space. Afterwards, you can zoom into these ranges and perform another random search (or grid search) to finetune the configurations.\n",
    "\n",
    "To save time and resources, don't use the whole dataset at the beginning, but instead a medium large subset of the samples. Also, you don't have to train for a large number of epochs - as mentioned above: we first want to get an overview about our hyper parameters.\n",
    "\n",
    "<div class=\"alert alert-info\">\n",
    "    <h3>Task: Hyperparameters Tunning & Model Training </h3>\n",
    "        <p> Now, it is your turn to do the hyperparamater tuning. In the cell below, you can use the <code>random_search</code> function to find a good choice of parameters. Put in some reasonable ranges for the hyperparameters and evaluate them.\n",
    "    <p> <b>Note:</b> At the beginning, it's a good approach to first do a coarse random search across a <b> wide range of values</b> to find promising sub-ranges of your parameter space and use <b> a medium large subset of the dataset </b>. Afterwards, you can zoom into these ranges and do another random search (or grid search) to finetune the configurations. Use the cell below to play around and find good hyperparameters for your model!</p>\n",
    "        <p> Finally, once you've found some promising hyperparameters (or narrowed them down to promising subranges), it's time to utilize these hyperparameters to train your network on the whole dataset for a large number of epochs so that your own model can reach an acceptable performance. \n",
    "        <p> <b>Hint 1:</b> You may use a <code>Solver</code> class we provided before or directly use the <code>random_search</code> function (as you can also monitor the loss here) for model training.\n",
    "        <p> <b>Hint 2:</b> Be patience, this will take time.\n",
    "        <p> <b>Hint 3:</b> It is a better practice to a find good set of hyperparameters on the small datasets, and only then run a full training session on the full dataset, either with specific hyperparameters that you've found in the <code>random search</code>, or better ranges.\n",
    "</div>"
   ]
  },
  {
   "cell_type": "code",
   "execution_count": null,
   "metadata": {
    "colab": {
     "background_save": true
    },
    "id": "g2C24gzzN5eq",
    "outputId": "f9a7ca76-0471-44bc-dbb7-ac7f5d14e581"
   },
   "outputs": [
    {
     "name": "stdout",
     "output_type": "stream",
     "text": [
      "\n",
      "Evaluating Config #1 [of 50]:\n",
      " {'learning_rate': 0.007649668370953555, 'batch_size': 84, 'reg': 0.0009750571834761031, 'hidden_size': 168, 'loss_func': <class 'exercise_code.networks.loss.CrossEntropyFromLogits'>, 'activation': <class 'exercise_code.networks.layer.Tanh'>, 'dropout': 0.20609762681987692, 'num_layer': 2}\n",
      "(Epoch 1 / 20) train loss: 3.301011; val loss: 3.641973\n",
      "(Epoch 2 / 20) train loss: 4.282787; val loss: 4.554700\n",
      "(Epoch 3 / 20) train loss: 4.981069; val loss: 5.386108\n",
      "(Epoch 4 / 20) train loss: 5.429481; val loss: 5.560054\n",
      "(Epoch 5 / 20) train loss: 5.686830; val loss: 6.164672\n",
      "(Epoch 6 / 20) train loss: 5.881454; val loss: 5.966439\n",
      "(Epoch 7 / 20) train loss: 5.848281; val loss: 6.055695\n",
      "Stopping early at epoch 6!\n",
      "\n",
      "Evaluating Config #2 [of 50]:\n",
      " {'learning_rate': 0.0025551828111428534, 'batch_size': 76, 'reg': 0.000929352886913804, 'hidden_size': 98, 'loss_func': <class 'exercise_code.networks.loss.CrossEntropyFromLogits'>, 'activation': <class 'exercise_code.networks.layer.LeakyRelu'>, 'dropout': 0.20311722890032746, 'num_layer': 8}\n",
      "(Epoch 1 / 20) train loss: 2.303717; val loss: 2.302658\n",
      "(Epoch 2 / 20) train loss: 2.301339; val loss: 2.302556\n",
      "(Epoch 3 / 20) train loss: 2.299677; val loss: 2.303818\n",
      "(Epoch 4 / 20) train loss: 2.298851; val loss: 2.304055\n",
      "(Epoch 5 / 20) train loss: 2.298215; val loss: 2.305133\n",
      "(Epoch 6 / 20) train loss: 2.297574; val loss: 2.305632\n",
      "(Epoch 7 / 20) train loss: 2.297188; val loss: 2.306014\n",
      "(Epoch 8 / 20) train loss: 2.297424; val loss: 2.306591\n",
      "Stopping early at epoch 7!\n",
      "\n",
      "Evaluating Config #3 [of 50]:\n",
      " {'learning_rate': 0.006140802570531616, 'batch_size': 88, 'reg': 0.00012633258667647473, 'hidden_size': 485, 'loss_func': <class 'exercise_code.networks.loss.CrossEntropyFromLogits'>, 'activation': <class 'exercise_code.networks.layer.LeakyRelu'>, 'dropout': 0.372394314060167, 'num_layer': 7}\n",
      "(Epoch 1 / 20) train loss: 2.304860; val loss: 2.303713\n",
      "(Epoch 2 / 20) train loss: 2.301110; val loss: 2.306107\n",
      "(Epoch 3 / 20) train loss: 2.299936; val loss: 2.308253\n",
      "(Epoch 4 / 20) train loss: 2.302266; val loss: 2.306377\n",
      "(Epoch 5 / 20) train loss: 2.300418; val loss: 2.307738\n",
      "(Epoch 6 / 20) train loss: 2.300044; val loss: 2.308344\n",
      "(Epoch 7 / 20) train loss: 2.300641; val loss: 2.306410\n",
      "Stopping early at epoch 6!\n",
      "\n",
      "Evaluating Config #4 [of 50]:\n",
      " {'learning_rate': 0.008108087746883718, 'batch_size': 119, 'reg': 1.2778198770013444e-05, 'hidden_size': 241, 'loss_func': <class 'exercise_code.networks.loss.CrossEntropyFromLogits'>, 'activation': <class 'exercise_code.networks.layer.LeakyRelu'>, 'dropout': 0.32511331998335447, 'num_layer': 7}\n",
      "(Epoch 1 / 20) train loss: 2.304789; val loss: 2.304414\n",
      "(Epoch 2 / 20) train loss: 2.302887; val loss: 2.306128\n",
      "(Epoch 3 / 20) train loss: 2.307471; val loss: 2.310156\n",
      "(Epoch 4 / 20) train loss: 2.304948; val loss: 2.312241\n",
      "(Epoch 5 / 20) train loss: 2.303324; val loss: 2.310432\n",
      "(Epoch 6 / 20) train loss: 2.302446; val loss: 2.311913\n",
      "(Epoch 7 / 20) train loss: 2.303205; val loss: 2.309584\n",
      "Stopping early at epoch 6!\n",
      "\n",
      "Evaluating Config #5 [of 50]:\n",
      " {'learning_rate': 0.001278244368895503, 'batch_size': 124, 'reg': 2.524396004717969e-05, 'hidden_size': 379, 'loss_func': <class 'exercise_code.networks.loss.CrossEntropyFromLogits'>, 'activation': <class 'exercise_code.networks.layer.Tanh'>, 'dropout': 0.6431917925721038, 'num_layer': 3}\n",
      "(Epoch 1 / 20) train loss: 2.305282; val loss: 2.186953\n",
      "(Epoch 2 / 20) train loss: 2.164361; val loss: 2.150161\n",
      "(Epoch 3 / 20) train loss: 2.066505; val loss: 2.204932\n",
      "(Epoch 4 / 20) train loss: 1.992984; val loss: 1.998400\n",
      "(Epoch 5 / 20) train loss: 1.897821; val loss: 2.208157\n",
      "(Epoch 6 / 20) train loss: 1.776292; val loss: 2.127217\n",
      "(Epoch 7 / 20) train loss: 1.621078; val loss: 2.249502\n",
      "(Epoch 8 / 20) train loss: 1.537094; val loss: 2.473297\n",
      "(Epoch 9 / 20) train loss: 1.417766; val loss: 2.526795\n",
      "(Epoch 10 / 20) train loss: 1.384329; val loss: 2.639386\n",
      "Stopping early at epoch 9!\n",
      "\n",
      "Evaluating Config #6 [of 50]:\n",
      " {'learning_rate': 0.001641544842700198, 'batch_size': 95, 'reg': 2.6386389584922825e-05, 'hidden_size': 231, 'loss_func': <class 'exercise_code.networks.loss.CrossEntropyFromLogits'>, 'activation': <class 'exercise_code.networks.layer.Tanh'>, 'dropout': 0.592605618492303, 'num_layer': 7}\n",
      "(Epoch 1 / 20) train loss: 2.303316; val loss: 2.306108\n",
      "(Epoch 2 / 20) train loss: 2.303623; val loss: 2.350359\n",
      "(Epoch 3 / 20) train loss: 2.399770; val loss: 2.440504\n",
      "(Epoch 4 / 20) train loss: 2.485871; val loss: 2.505006\n",
      "(Epoch 5 / 20) train loss: 2.529750; val loss: 2.409887\n",
      "(Epoch 6 / 20) train loss: 2.483134; val loss: 2.460883\n",
      "(Epoch 7 / 20) train loss: 2.499303; val loss: 2.463737\n",
      "Stopping early at epoch 6!\n",
      "\n",
      "Evaluating Config #7 [of 50]:\n",
      " {'learning_rate': 0.003943140682925091, 'batch_size': 25, 'reg': 0.00010820273812674642, 'hidden_size': 375, 'loss_func': <class 'exercise_code.networks.loss.CrossEntropyFromLogits'>, 'activation': <class 'exercise_code.networks.layer.LeakyRelu'>, 'dropout': 0.5750895900725672, 'num_layer': 2}\n",
      "(Epoch 1 / 20) train loss: 10.443877; val loss: 22.186848\n",
      "(Epoch 2 / 20) train loss: 13.680625; val loss: 11.558010\n",
      "(Epoch 3 / 20) train loss: 13.324226; val loss: 18.447210\n",
      "(Epoch 4 / 20) train loss: 14.230571; val loss: 15.573191\n",
      "(Epoch 5 / 20) train loss: 13.290688; val loss: 17.390704\n",
      "(Epoch 6 / 20) train loss: 11.365546; val loss: 25.975957\n"
     ]
    },
    {
     "name": "stderr",
     "output_type": "stream",
     "text": [
      "/Users/I747320/@TUM/Study/Sem_3/I2DL/exercises/exercise_06/exercise_code/networks/loss.py:170: RuntimeWarning: divide by zero encountered in log\n",
      "  loss = -y_truth_one_hot * np.log(y_out_probs)\n",
      "/Users/I747320/@TUM/Study/Sem_3/I2DL/exercises/exercise_06/exercise_code/networks/loss.py:170: RuntimeWarning: invalid value encountered in multiply\n",
      "  loss = -y_truth_one_hot * np.log(y_out_probs)\n"
     ]
    },
    {
     "name": "stdout",
     "output_type": "stream",
     "text": [
      "(Epoch 7 / 20) train loss: 14.641941; val loss: nan\n",
      "(Epoch 8 / 20) train loss: nan; val loss: 25.971664\n",
      "Stopping early at epoch 7!\n",
      "\n",
      "Evaluating Config #8 [of 50]:\n",
      " {'learning_rate': 0.009533054913031356, 'batch_size': 22, 'reg': 6.806371054029967e-05, 'hidden_size': 160, 'loss_func': <class 'exercise_code.networks.loss.CrossEntropyFromLogits'>, 'activation': <class 'exercise_code.networks.layer.LeakyRelu'>, 'dropout': 0.40451860432140896, 'num_layer': 9}\n",
      "(Epoch 1 / 20) train loss: 2.307945; val loss: 2.305801\n",
      "(Epoch 2 / 20) train loss: 2.306232; val loss: 2.307713\n",
      "(Epoch 3 / 20) train loss: 2.302249; val loss: 2.303017\n",
      "(Epoch 4 / 20) train loss: 2.303772; val loss: 2.306611\n",
      "(Epoch 5 / 20) train loss: 2.303527; val loss: 2.308130\n",
      "(Epoch 6 / 20) train loss: 2.302374; val loss: 2.311715\n",
      "(Epoch 7 / 20) train loss: 2.303426; val loss: 2.308795\n",
      "(Epoch 8 / 20) train loss: 2.303013; val loss: 2.308691\n",
      "(Epoch 9 / 20) train loss: 2.301835; val loss: 2.307082\n",
      "Stopping early at epoch 8!\n",
      "\n",
      "Evaluating Config #9 [of 50]:\n",
      " {'learning_rate': 0.009942676792148948, 'batch_size': 125, 'reg': 0.0001734413317243297, 'hidden_size': 130, 'loss_func': <class 'exercise_code.networks.loss.CrossEntropyFromLogits'>, 'activation': <class 'exercise_code.networks.layer.Tanh'>, 'dropout': 0.6937080671788773, 'num_layer': 4}\n",
      "(Epoch 1 / 20) train loss: 2.887790; val loss: 3.112151\n",
      "(Epoch 2 / 20) train loss: 3.323827; val loss: 3.777606\n",
      "(Epoch 3 / 20) train loss: 3.628460; val loss: 3.292011\n",
      "(Epoch 4 / 20) train loss: 3.790706; val loss: 3.899887\n",
      "(Epoch 5 / 20) train loss: 3.900971; val loss: 3.944063\n",
      "(Epoch 6 / 20) train loss: 4.131670; val loss: 3.960810\n"
     ]
    },
    {
     "name": "stderr",
     "output_type": "stream",
     "text": [
      "/Users/I747320/@TUM/Study/Sem_3/I2DL/exercises/exercise_06/exercise_code/networks/layer.py:168: RuntimeWarning: overflow encountered in exp\n",
      "  outputs = (np.exp(x) - np.exp(-x)) / (np.exp(x) + np.exp(-x))\n",
      "/Users/I747320/@TUM/Study/Sem_3/I2DL/exercises/exercise_06/exercise_code/networks/layer.py:168: RuntimeWarning: invalid value encountered in divide\n",
      "  outputs = (np.exp(x) - np.exp(-x)) / (np.exp(x) + np.exp(-x))\n"
     ]
    },
    {
     "name": "stdout",
     "output_type": "stream",
     "text": [
      "(Epoch 7 / 20) train loss: nan; val loss: nan\n",
      "Stopping early at epoch 6!\n",
      "\n",
      "Evaluating Config #10 [of 50]:\n",
      " {'learning_rate': 0.001978249221740051, 'batch_size': 88, 'reg': 0.0009198427204959139, 'hidden_size': 372, 'loss_func': <class 'exercise_code.networks.loss.CrossEntropyFromLogits'>, 'activation': <class 'exercise_code.networks.layer.LeakyRelu'>, 'dropout': 0.5332746669891988, 'num_layer': 6}\n",
      "(Epoch 1 / 20) train loss: 2.303302; val loss: 2.302720\n",
      "(Epoch 2 / 20) train loss: 2.300968; val loss: 2.303054\n",
      "(Epoch 3 / 20) train loss: 2.299855; val loss: 2.303360\n",
      "(Epoch 4 / 20) train loss: 2.299033; val loss: 2.304078\n",
      "(Epoch 5 / 20) train loss: 2.298574; val loss: 2.304638\n",
      "(Epoch 6 / 20) train loss: 2.297913; val loss: 2.304693\n",
      "(Epoch 7 / 20) train loss: 2.297450; val loss: 2.305304\n",
      "Stopping early at epoch 6!\n",
      "\n",
      "Evaluating Config #11 [of 50]:\n",
      " {'learning_rate': 0.007581611909245221, 'batch_size': 122, 'reg': 0.0006719374759358846, 'hidden_size': 493, 'loss_func': <class 'exercise_code.networks.loss.CrossEntropyFromLogits'>, 'activation': <class 'exercise_code.networks.layer.Tanh'>, 'dropout': 0.22606583698237714, 'num_layer': 2}\n",
      "(Epoch 1 / 20) train loss: 5.185314; val loss: 7.064738\n",
      "(Epoch 2 / 20) train loss: 7.887321; val loss: 9.672080\n",
      "(Epoch 3 / 20) train loss: 9.647389; val loss: 10.308016\n",
      "(Epoch 4 / 20) train loss: 10.944852; val loss: 12.519556\n",
      "(Epoch 5 / 20) train loss: 11.943367; val loss: 12.968483\n",
      "(Epoch 6 / 20) train loss: 12.317369; val loss: 12.668234\n",
      "(Epoch 7 / 20) train loss: 12.557696; val loss: 13.733810\n",
      "Stopping early at epoch 6!\n",
      "\n",
      "Evaluating Config #12 [of 50]:\n",
      " {'learning_rate': 0.002402076068271837, 'batch_size': 60, 'reg': 1.4255333802320855e-05, 'hidden_size': 298, 'loss_func': <class 'exercise_code.networks.loss.CrossEntropyFromLogits'>, 'activation': <class 'exercise_code.networks.layer.Tanh'>, 'dropout': 0.2026021743245388, 'num_layer': 3}\n",
      "(Epoch 1 / 20) train loss: 2.386866; val loss: 2.279575\n",
      "(Epoch 2 / 20) train loss: 2.233557; val loss: 2.052170\n",
      "(Epoch 3 / 20) train loss: 2.155498; val loss: 2.235513\n",
      "(Epoch 4 / 20) train loss: 2.099855; val loss: 2.331985\n",
      "(Epoch 5 / 20) train loss: 2.025916; val loss: 2.211453\n",
      "(Epoch 6 / 20) train loss: 1.909076; val loss: 2.166322\n",
      "(Epoch 7 / 20) train loss: 1.797599; val loss: 2.267724\n",
      "(Epoch 8 / 20) train loss: 1.776093; val loss: 2.245172\n",
      "Stopping early at epoch 7!\n",
      "\n",
      "Evaluating Config #13 [of 50]:\n",
      " {'learning_rate': 0.0015997880026230374, 'batch_size': 41, 'reg': 0.00014081220171890225, 'hidden_size': 405, 'loss_func': <class 'exercise_code.networks.loss.CrossEntropyFromLogits'>, 'activation': <class 'exercise_code.networks.layer.Tanh'>, 'dropout': 0.45129716541250575, 'num_layer': 5}\n",
      "(Epoch 1 / 20) train loss: 2.357501; val loss: 2.626606\n",
      "(Epoch 2 / 20) train loss: 2.675032; val loss: 2.789231\n",
      "(Epoch 3 / 20) train loss: 2.622769; val loss: 2.492965\n",
      "(Epoch 4 / 20) train loss: 2.483247; val loss: 2.508199\n",
      "(Epoch 5 / 20) train loss: 2.562393; val loss: 2.725149\n",
      "(Epoch 6 / 20) train loss: 2.637766; val loss: 2.482268\n",
      "(Epoch 7 / 20) train loss: 2.475466; val loss: 2.602108\n",
      "(Epoch 8 / 20) train loss: 2.687606; val loss: 2.700111\n",
      "(Epoch 9 / 20) train loss: 2.597012; val loss: 2.755136\n",
      "(Epoch 10 / 20) train loss: 2.678307; val loss: 2.728019\n",
      "(Epoch 11 / 20) train loss: 2.709404; val loss: 2.498060\n",
      "(Epoch 12 / 20) train loss: 2.669227; val loss: 2.753366\n",
      "Stopping early at epoch 11!\n",
      "\n",
      "Evaluating Config #14 [of 50]:\n",
      " {'learning_rate': 0.007682684886754766, 'batch_size': 99, 'reg': 3.7507365340131816e-05, 'hidden_size': 481, 'loss_func': <class 'exercise_code.networks.loss.CrossEntropyFromLogits'>, 'activation': <class 'exercise_code.networks.layer.LeakyRelu'>, 'dropout': 0.488771687654599, 'num_layer': 2}\n",
      "(Epoch 1 / 20) train loss: nan; val loss: 46.104314\n",
      "(Epoch 2 / 20) train loss: nan; val loss: nan\n",
      "(Epoch 3 / 20) train loss: nan; val loss: nan\n",
      "(Epoch 4 / 20) train loss: nan; val loss: nan\n",
      "(Epoch 5 / 20) train loss: nan; val loss: nan\n",
      "(Epoch 6 / 20) train loss: nan; val loss: nan\n",
      "(Epoch 7 / 20) train loss: nan; val loss: nan\n",
      "Stopping early at epoch 6!\n",
      "\n",
      "Evaluating Config #15 [of 50]:\n",
      " {'learning_rate': 0.0017702875000816087, 'batch_size': 39, 'reg': 0.00019985913623729847, 'hidden_size': 345, 'loss_func': <class 'exercise_code.networks.loss.CrossEntropyFromLogits'>, 'activation': <class 'exercise_code.networks.layer.Tanh'>, 'dropout': 0.28822622452712715, 'num_layer': 9}\n",
      "(Epoch 1 / 20) train loss: 2.303397; val loss: 2.303566\n",
      "(Epoch 2 / 20) train loss: 2.312102; val loss: 2.304758\n",
      "(Epoch 3 / 20) train loss: 2.304342; val loss: 2.304270\n",
      "(Epoch 4 / 20) train loss: 2.301396; val loss: 2.298833\n",
      "(Epoch 5 / 20) train loss: 2.300802; val loss: 2.316212\n",
      "(Epoch 6 / 20) train loss: 2.301003; val loss: 2.306174\n",
      "(Epoch 7 / 20) train loss: 2.298606; val loss: 2.312531\n",
      "(Epoch 8 / 20) train loss: 2.300324; val loss: 2.308717\n",
      "(Epoch 9 / 20) train loss: 2.298980; val loss: 2.305952\n",
      "(Epoch 10 / 20) train loss: 2.298308; val loss: 2.305090\n",
      "Stopping early at epoch 9!\n",
      "\n",
      "Evaluating Config #16 [of 50]:\n",
      " {'learning_rate': 0.0016581232003693774, 'batch_size': 108, 'reg': 2.6478433775886168e-05, 'hidden_size': 315, 'loss_func': <class 'exercise_code.networks.loss.CrossEntropyFromLogits'>, 'activation': <class 'exercise_code.networks.layer.LeakyRelu'>, 'dropout': 0.4901005634659578, 'num_layer': 4}\n",
      "(Epoch 1 / 20) train loss: 2.302709; val loss: 2.302353\n",
      "(Epoch 2 / 20) train loss: 2.301267; val loss: 2.302894\n",
      "(Epoch 3 / 20) train loss: 2.300174; val loss: 2.302960\n",
      "(Epoch 4 / 20) train loss: 2.299046; val loss: 2.303191\n",
      "(Epoch 5 / 20) train loss: 2.298420; val loss: 2.303736\n",
      "(Epoch 6 / 20) train loss: 2.372664; val loss: 2.352493\n",
      "(Epoch 7 / 20) train loss: 2.464721; val loss: 2.414944\n",
      "Stopping early at epoch 6!\n",
      "\n",
      "Evaluating Config #17 [of 50]:\n",
      " {'learning_rate': 0.0012464386742398036, 'batch_size': 119, 'reg': 0.00021377328375028016, 'hidden_size': 442, 'loss_func': <class 'exercise_code.networks.loss.CrossEntropyFromLogits'>, 'activation': <class 'exercise_code.networks.layer.LeakyRelu'>, 'dropout': 0.39733193373754994, 'num_layer': 5}\n",
      "(Epoch 1 / 20) train loss: 2.303399; val loss: 2.302296\n",
      "(Epoch 2 / 20) train loss: 2.301591; val loss: 2.302603\n",
      "(Epoch 3 / 20) train loss: 2.300494; val loss: 2.302251\n",
      "(Epoch 4 / 20) train loss: 2.299672; val loss: 2.303856\n",
      "(Epoch 5 / 20) train loss: 2.298828; val loss: 2.304284\n",
      "(Epoch 6 / 20) train loss: 2.298375; val loss: 2.304722\n",
      "(Epoch 7 / 20) train loss: 2.297659; val loss: 2.305398\n",
      "(Epoch 8 / 20) train loss: 2.297640; val loss: 2.305394\n",
      "(Epoch 9 / 20) train loss: 2.297508; val loss: 2.306932\n",
      "Stopping early at epoch 8!\n",
      "\n",
      "Evaluating Config #18 [of 50]:\n",
      " {'learning_rate': 0.007106776271070748, 'batch_size': 98, 'reg': 0.0002944478192323294, 'hidden_size': 124, 'loss_func': <class 'exercise_code.networks.loss.CrossEntropyFromLogits'>, 'activation': <class 'exercise_code.networks.layer.LeakyRelu'>, 'dropout': 0.5245476463747265, 'num_layer': 9}\n",
      "(Epoch 1 / 20) train loss: 2.304978; val loss: 2.303879\n",
      "(Epoch 2 / 20) train loss: 2.301849; val loss: 2.305001\n",
      "(Epoch 3 / 20) train loss: 2.300608; val loss: 2.303053\n",
      "(Epoch 4 / 20) train loss: 2.303623; val loss: 2.310515\n",
      "(Epoch 5 / 20) train loss: 2.300432; val loss: 2.310619\n",
      "(Epoch 6 / 20) train loss: 2.300518; val loss: 2.310379\n",
      "(Epoch 7 / 20) train loss: 2.299436; val loss: 2.307914\n",
      "(Epoch 8 / 20) train loss: 2.299241; val loss: 2.308924\n",
      "(Epoch 9 / 20) train loss: 2.299531; val loss: 2.306404\n",
      "Stopping early at epoch 8!\n",
      "\n",
      "Evaluating Config #19 [of 50]:\n",
      " {'learning_rate': 0.0010104692118722033, 'batch_size': 42, 'reg': 2.3231019150601266e-05, 'hidden_size': 329, 'loss_func': <class 'exercise_code.networks.loss.CrossEntropyFromLogits'>, 'activation': <class 'exercise_code.networks.layer.Tanh'>, 'dropout': 0.40821754643302577, 'num_layer': 5}\n",
      "(Epoch 1 / 20) train loss: 2.303769; val loss: 2.302792\n",
      "(Epoch 2 / 20) train loss: 2.303268; val loss: 2.302661\n",
      "(Epoch 3 / 20) train loss: 2.370908; val loss: 2.402837\n",
      "(Epoch 4 / 20) train loss: 2.310057; val loss: 2.152171\n",
      "(Epoch 5 / 20) train loss: 2.244659; val loss: 2.029170\n",
      "(Epoch 6 / 20) train loss: 2.209262; val loss: 2.087934\n",
      "(Epoch 7 / 20) train loss: 2.136575; val loss: 2.028397\n",
      "(Epoch 8 / 20) train loss: 2.128696; val loss: 2.190184\n",
      "(Epoch 9 / 20) train loss: 2.088356; val loss: 2.149705\n",
      "(Epoch 10 / 20) train loss: 2.029524; val loss: 2.411074\n",
      "(Epoch 11 / 20) train loss: 2.000010; val loss: 2.074382\n",
      "(Epoch 12 / 20) train loss: 1.951851; val loss: 2.132096\n",
      "(Epoch 13 / 20) train loss: 1.924121; val loss: 2.204208\n",
      "Stopping early at epoch 12!\n",
      "\n",
      "Evaluating Config #20 [of 50]:\n",
      " {'learning_rate': 0.007956421073257986, 'batch_size': 103, 'reg': 0.00039346216083993764, 'hidden_size': 351, 'loss_func': <class 'exercise_code.networks.loss.CrossEntropyFromLogits'>, 'activation': <class 'exercise_code.networks.layer.Tanh'>, 'dropout': 0.44617820526968555, 'num_layer': 8}\n",
      "(Epoch 1 / 20) train loss: 3.597636; val loss: 3.538724\n",
      "(Epoch 2 / 20) train loss: 4.482564; val loss: 4.275807\n",
      "(Epoch 3 / 20) train loss: 4.389454; val loss: 4.354474\n",
      "(Epoch 4 / 20) train loss: 4.955465; val loss: 4.874091\n",
      "(Epoch 5 / 20) train loss: 5.045760; val loss: 4.585976\n",
      "(Epoch 6 / 20) train loss: 6.103001; val loss: 15.202122\n",
      "(Epoch 7 / 20) train loss: 16.530229; val loss: 16.828624\n",
      "Stopping early at epoch 6!\n",
      "\n",
      "Evaluating Config #21 [of 50]:\n",
      " {'learning_rate': 0.0029485079401318005, 'batch_size': 91, 'reg': 0.0004686590544116023, 'hidden_size': 487, 'loss_func': <class 'exercise_code.networks.loss.CrossEntropyFromLogits'>, 'activation': <class 'exercise_code.networks.layer.LeakyRelu'>, 'dropout': 0.5028240214973441, 'num_layer': 4}\n",
      "(Epoch 1 / 20) train loss: 2.303159; val loss: 2.303380\n",
      "(Epoch 2 / 20) train loss: 2.300697; val loss: 2.303674\n",
      "(Epoch 3 / 20) train loss: 2.299128; val loss: 2.304707\n",
      "(Epoch 4 / 20) train loss: 2.298663; val loss: 2.304799\n",
      "(Epoch 5 / 20) train loss: 2.297597; val loss: 2.305891\n",
      "(Epoch 6 / 20) train loss: 2.297517; val loss: 2.305559\n",
      "(Epoch 7 / 20) train loss: 2.298151; val loss: 2.306139\n",
      "Stopping early at epoch 6!\n",
      "\n",
      "Evaluating Config #22 [of 50]:\n",
      " {'learning_rate': 0.00807904741999943, 'batch_size': 116, 'reg': 1.3926985558173011e-05, 'hidden_size': 161, 'loss_func': <class 'exercise_code.networks.loss.CrossEntropyFromLogits'>, 'activation': <class 'exercise_code.networks.layer.LeakyRelu'>, 'dropout': 0.5792595564045662, 'num_layer': 6}\n",
      "(Epoch 1 / 20) train loss: 2.305894; val loss: 2.303202\n",
      "(Epoch 2 / 20) train loss: 2.303438; val loss: 2.337940\n",
      "(Epoch 3 / 20) train loss: 2.303824; val loss: 2.305983\n",
      "(Epoch 4 / 20) train loss: 2.303120; val loss: 2.307212\n",
      "(Epoch 5 / 20) train loss: 2.302918; val loss: 2.307669\n",
      "(Epoch 6 / 20) train loss: 2.300213; val loss: 2.307309\n",
      "(Epoch 7 / 20) train loss: 2.301604; val loss: 2.307727\n",
      "Stopping early at epoch 6!\n",
      "\n",
      "Evaluating Config #23 [of 50]:\n",
      " {'learning_rate': 0.00265151804527281, 'batch_size': 104, 'reg': 5.895232183914136e-05, 'hidden_size': 303, 'loss_func': <class 'exercise_code.networks.loss.CrossEntropyFromLogits'>, 'activation': <class 'exercise_code.networks.layer.Tanh'>, 'dropout': 0.49679359485348645, 'num_layer': 7}\n",
      "(Epoch 1 / 20) train loss: 2.308199; val loss: 2.305549\n",
      "(Epoch 2 / 20) train loss: 2.646724; val loss: 2.486358\n",
      "(Epoch 3 / 20) train loss: 2.664094; val loss: 3.006099\n",
      "(Epoch 4 / 20) train loss: 2.680582; val loss: 2.252922\n",
      "(Epoch 5 / 20) train loss: 2.683959; val loss: 2.812529\n",
      "(Epoch 6 / 20) train loss: 2.736205; val loss: 2.550728\n",
      "(Epoch 7 / 20) train loss: 2.719154; val loss: 2.570843\n",
      "(Epoch 8 / 20) train loss: 2.787226; val loss: 2.762421\n",
      "(Epoch 9 / 20) train loss: 2.798959; val loss: 2.695519\n",
      "(Epoch 10 / 20) train loss: 2.746944; val loss: 2.659330\n",
      "Stopping early at epoch 9!\n",
      "\n",
      "Evaluating Config #24 [of 50]:\n",
      " {'learning_rate': 0.0013500506433035933, 'batch_size': 127, 'reg': 5.994851715329875e-05, 'hidden_size': 436, 'loss_func': <class 'exercise_code.networks.loss.CrossEntropyFromLogits'>, 'activation': <class 'exercise_code.networks.layer.Tanh'>, 'dropout': 0.5970667864228232, 'num_layer': 10}\n",
      "(Epoch 1 / 20) train loss: 2.303801; val loss: 2.303182\n",
      "(Epoch 2 / 20) train loss: 2.301338; val loss: 2.311339\n",
      "(Epoch 3 / 20) train loss: 2.304817; val loss: 2.300708\n",
      "(Epoch 4 / 20) train loss: 2.306378; val loss: 2.304641\n",
      "(Epoch 5 / 20) train loss: 2.306330; val loss: 2.306711\n",
      "(Epoch 6 / 20) train loss: 2.302429; val loss: 2.304692\n",
      "(Epoch 7 / 20) train loss: 2.300560; val loss: 2.303958\n",
      "(Epoch 8 / 20) train loss: 2.299628; val loss: 2.308437\n",
      "(Epoch 9 / 20) train loss: 2.300859; val loss: 2.304212\n",
      "Stopping early at epoch 8!\n",
      "\n",
      "Evaluating Config #25 [of 50]:\n",
      " {'learning_rate': 0.004112341912600979, 'batch_size': 63, 'reg': 0.0007702052295775622, 'hidden_size': 190, 'loss_func': <class 'exercise_code.networks.loss.CrossEntropyFromLogits'>, 'activation': <class 'exercise_code.networks.layer.Tanh'>, 'dropout': 0.3298497103033764, 'num_layer': 8}\n",
      "(Epoch 1 / 20) train loss: 2.313987; val loss: 2.318139\n",
      "(Epoch 2 / 20) train loss: 3.200038; val loss: 4.048073\n",
      "(Epoch 3 / 20) train loss: 4.011850; val loss: 3.439658\n",
      "(Epoch 4 / 20) train loss: 3.584300; val loss: 3.410868\n",
      "(Epoch 5 / 20) train loss: 3.343864; val loss: 3.193967\n",
      "(Epoch 6 / 20) train loss: 3.309011; val loss: 3.035406\n",
      "(Epoch 7 / 20) train loss: 3.214248; val loss: 2.960750\n",
      "Stopping early at epoch 6!\n",
      "\n",
      "Evaluating Config #26 [of 50]:\n",
      " {'learning_rate': 0.001478063296376402, 'batch_size': 29, 'reg': 0.0007845089517985143, 'hidden_size': 414, 'loss_func': <class 'exercise_code.networks.loss.CrossEntropyFromLogits'>, 'activation': <class 'exercise_code.networks.layer.Tanh'>, 'dropout': 0.3708018681345847, 'num_layer': 5}\n",
      "(Epoch 1 / 20) train loss: 2.304132; val loss: 2.324258\n",
      "(Epoch 2 / 20) train loss: 2.304826; val loss: 2.305640\n",
      "(Epoch 3 / 20) train loss: 2.612631; val loss: 3.114885\n",
      "(Epoch 4 / 20) train loss: 3.185406; val loss: 3.270240\n",
      "(Epoch 5 / 20) train loss: 3.098385; val loss: 3.056672\n",
      "(Epoch 6 / 20) train loss: 3.004277; val loss: 2.906435\n",
      "(Epoch 7 / 20) train loss: 3.145950; val loss: 3.073612\n",
      "(Epoch 8 / 20) train loss: 3.173750; val loss: 2.990880\n",
      "Stopping early at epoch 7!\n",
      "\n",
      "Evaluating Config #27 [of 50]:\n",
      " {'learning_rate': 0.0042348794994747085, 'batch_size': 20, 'reg': 1.1251317523767051e-05, 'hidden_size': 496, 'loss_func': <class 'exercise_code.networks.loss.CrossEntropyFromLogits'>, 'activation': <class 'exercise_code.networks.layer.LeakyRelu'>, 'dropout': 0.20465355460223866, 'num_layer': 5}\n",
      "(Epoch 1 / 20) train loss: 2.305470; val loss: 2.303879\n",
      "(Epoch 2 / 20) train loss: 2.300735; val loss: 2.303854\n",
      "(Epoch 3 / 20) train loss: 2.299137; val loss: 2.305384\n",
      "(Epoch 4 / 20) train loss: 2.299021; val loss: 2.306325\n",
      "(Epoch 5 / 20) train loss: 2.298875; val loss: 2.305990\n",
      "(Epoch 6 / 20) train loss: 2.298512; val loss: 2.307498\n",
      "(Epoch 7 / 20) train loss: 2.298219; val loss: 2.308109\n",
      "(Epoch 8 / 20) train loss: 2.298769; val loss: 2.307184\n",
      "Stopping early at epoch 7!\n",
      "\n",
      "Evaluating Config #28 [of 50]:\n",
      " {'learning_rate': 0.001015333372449446, 'batch_size': 111, 'reg': 0.00036080161891617157, 'hidden_size': 107, 'loss_func': <class 'exercise_code.networks.loss.CrossEntropyFromLogits'>, 'activation': <class 'exercise_code.networks.layer.LeakyRelu'>, 'dropout': 0.2992172833855056, 'num_layer': 9}\n",
      "(Epoch 1 / 20) train loss: 2.302925; val loss: 2.302360\n",
      "(Epoch 2 / 20) train loss: 2.301587; val loss: 2.302356\n",
      "(Epoch 3 / 20) train loss: 2.300738; val loss: 2.303065\n",
      "(Epoch 4 / 20) train loss: 2.300133; val loss: 2.302842\n",
      "(Epoch 5 / 20) train loss: 2.299381; val loss: 2.303307\n",
      "(Epoch 6 / 20) train loss: 2.298745; val loss: 2.303420\n",
      "(Epoch 7 / 20) train loss: 2.298514; val loss: 2.303399\n",
      "(Epoch 8 / 20) train loss: 2.298141; val loss: 2.304018\n",
      "Stopping early at epoch 7!\n",
      "\n",
      "Evaluating Config #29 [of 50]:\n",
      " {'learning_rate': 0.002459217501081836, 'batch_size': 17, 'reg': 9.436777230458236e-05, 'hidden_size': 289, 'loss_func': <class 'exercise_code.networks.loss.CrossEntropyFromLogits'>, 'activation': <class 'exercise_code.networks.layer.Tanh'>, 'dropout': 0.25692953964822085, 'num_layer': 7}\n",
      "(Epoch 1 / 20) train loss: 2.305319; val loss: 2.305866\n",
      "(Epoch 2 / 20) train loss: 2.442573; val loss: 2.871974\n",
      "(Epoch 3 / 20) train loss: 2.804476; val loss: 2.416439\n",
      "(Epoch 4 / 20) train loss: 2.634794; val loss: 2.474705\n",
      "(Epoch 5 / 20) train loss: 2.705889; val loss: 2.489602\n",
      "(Epoch 6 / 20) train loss: 2.600801; val loss: 2.722733\n",
      "(Epoch 7 / 20) train loss: 2.698644; val loss: 2.915305\n",
      "Stopping early at epoch 6!\n",
      "\n",
      "Evaluating Config #30 [of 50]:\n",
      " {'learning_rate': 0.0010108982859889264, 'batch_size': 48, 'reg': 0.0003948425557983238, 'hidden_size': 444, 'loss_func': <class 'exercise_code.networks.loss.CrossEntropyFromLogits'>, 'activation': <class 'exercise_code.networks.layer.LeakyRelu'>, 'dropout': 0.5639959489309436, 'num_layer': 5}\n",
      "(Epoch 1 / 20) train loss: 2.303852; val loss: 2.303233\n",
      "(Epoch 2 / 20) train loss: 2.301327; val loss: 2.302964\n",
      "(Epoch 3 / 20) train loss: 2.300112; val loss: 2.304503\n",
      "(Epoch 4 / 20) train loss: 2.300357; val loss: 2.304649\n",
      "(Epoch 5 / 20) train loss: 2.299482; val loss: 2.304653\n",
      "(Epoch 6 / 20) train loss: 2.298453; val loss: 2.305492\n",
      "(Epoch 7 / 20) train loss: 2.298726; val loss: 2.306765\n",
      "(Epoch 8 / 20) train loss: 2.299501; val loss: 2.307126\n",
      "Stopping early at epoch 7!\n",
      "\n",
      "Evaluating Config #31 [of 50]:\n",
      " {'learning_rate': 0.0013219615595829297, 'batch_size': 32, 'reg': 0.00037411239218458484, 'hidden_size': 213, 'loss_func': <class 'exercise_code.networks.loss.CrossEntropyFromLogits'>, 'activation': <class 'exercise_code.networks.layer.LeakyRelu'>, 'dropout': 0.3739804401596488, 'num_layer': 7}\n",
      "(Epoch 1 / 20) train loss: 2.302888; val loss: 2.301922\n",
      "(Epoch 2 / 20) train loss: 2.301318; val loss: 2.302126\n",
      "(Epoch 3 / 20) train loss: 2.300472; val loss: 2.303110\n",
      "(Epoch 4 / 20) train loss: 2.299130; val loss: 2.304164\n",
      "(Epoch 5 / 20) train loss: 2.298725; val loss: 2.304389\n",
      "(Epoch 6 / 20) train loss: 2.298042; val loss: 2.305012\n",
      "(Epoch 7 / 20) train loss: 2.297980; val loss: 2.305947\n",
      "Stopping early at epoch 6!\n",
      "\n",
      "Evaluating Config #32 [of 50]:\n",
      " {'learning_rate': 0.004550287231734223, 'batch_size': 64, 'reg': 0.0009453739538788487, 'hidden_size': 334, 'loss_func': <class 'exercise_code.networks.loss.CrossEntropyFromLogits'>, 'activation': <class 'exercise_code.networks.layer.Tanh'>, 'dropout': 0.26965433106282116, 'num_layer': 2}\n",
      "(Epoch 1 / 20) train loss: 3.159505; val loss: 3.613965\n",
      "(Epoch 2 / 20) train loss: 3.975568; val loss: 4.098116\n",
      "(Epoch 3 / 20) train loss: 4.381337; val loss: 4.620257\n",
      "(Epoch 4 / 20) train loss: 4.799799; val loss: 5.483279\n",
      "(Epoch 5 / 20) train loss: 5.284243; val loss: 5.538619\n",
      "(Epoch 6 / 20) train loss: 5.536268; val loss: 5.684244\n",
      "(Epoch 7 / 20) train loss: 5.666750; val loss: 5.947036\n",
      "Stopping early at epoch 6!\n",
      "\n",
      "Evaluating Config #33 [of 50]:\n",
      " {'learning_rate': 0.00861187351825354, 'batch_size': 20, 'reg': 0.0004157900169303954, 'hidden_size': 456, 'loss_func': <class 'exercise_code.networks.loss.CrossEntropyFromLogits'>, 'activation': <class 'exercise_code.networks.layer.Tanh'>, 'dropout': 0.3711783955736475, 'num_layer': 5}\n",
      "(Epoch 1 / 20) train loss: 5.227022; val loss: 6.139089\n",
      "(Epoch 2 / 20) train loss: 7.291454; val loss: 7.200007\n",
      "(Epoch 3 / 20) train loss: 7.333644; val loss: 6.692718\n",
      "(Epoch 4 / 20) train loss: 7.500245; val loss: 8.048390\n",
      "(Epoch 5 / 20) train loss: 7.890123; val loss: 9.220336\n",
      "(Epoch 6 / 20) train loss: 9.056298; val loss: 9.280687\n",
      "(Epoch 7 / 20) train loss: 11.152443; val loss: 11.740091\n",
      "Stopping early at epoch 6!\n",
      "\n",
      "Evaluating Config #34 [of 50]:\n",
      " {'learning_rate': 0.008529368706292083, 'batch_size': 77, 'reg': 0.0006858739036998561, 'hidden_size': 138, 'loss_func': <class 'exercise_code.networks.loss.CrossEntropyFromLogits'>, 'activation': <class 'exercise_code.networks.layer.Tanh'>, 'dropout': 0.38014427954886265, 'num_layer': 7}\n",
      "(Epoch 1 / 20) train loss: 2.627807; val loss: 4.296952\n",
      "(Epoch 2 / 20) train loss: 3.772975; val loss: 4.932678\n",
      "(Epoch 3 / 20) train loss: 4.407116; val loss: 3.889621\n",
      "(Epoch 4 / 20) train loss: 5.629423; val loss: 5.970292\n",
      "(Epoch 5 / 20) train loss: nan; val loss: nan\n",
      "(Epoch 6 / 20) train loss: nan; val loss: nan\n",
      "(Epoch 7 / 20) train loss: nan; val loss: nan\n",
      "(Epoch 8 / 20) train loss: nan; val loss: nan\n",
      "(Epoch 9 / 20) train loss: nan; val loss: nan\n",
      "Stopping early at epoch 8!\n",
      "\n",
      "Evaluating Config #35 [of 50]:\n",
      " {'learning_rate': 0.0012201907214846553, 'batch_size': 125, 'reg': 0.00011817488806220774, 'hidden_size': 215, 'loss_func': <class 'exercise_code.networks.loss.CrossEntropyFromLogits'>, 'activation': <class 'exercise_code.networks.layer.Tanh'>, 'dropout': 0.5838486178641594, 'num_layer': 10}\n",
      "(Epoch 1 / 20) train loss: 2.303230; val loss: 2.302338\n",
      "(Epoch 2 / 20) train loss: 2.302261; val loss: 2.300970\n",
      "(Epoch 3 / 20) train loss: 2.302782; val loss: 2.303764\n",
      "(Epoch 4 / 20) train loss: 2.302489; val loss: 2.303763\n",
      "(Epoch 5 / 20) train loss: 2.300868; val loss: 2.302054\n",
      "(Epoch 6 / 20) train loss: 2.300726; val loss: 2.302584\n",
      "(Epoch 7 / 20) train loss: 2.299032; val loss: 2.303807\n",
      "(Epoch 8 / 20) train loss: 2.298864; val loss: 2.302580\n",
      "Stopping early at epoch 7!\n",
      "\n",
      "Evaluating Config #36 [of 50]:\n",
      " {'learning_rate': 0.002578464937249718, 'batch_size': 68, 'reg': 0.00043417646393219923, 'hidden_size': 267, 'loss_func': <class 'exercise_code.networks.loss.CrossEntropyFromLogits'>, 'activation': <class 'exercise_code.networks.layer.LeakyRelu'>, 'dropout': 0.34479789479395473, 'num_layer': 8}\n",
      "(Epoch 1 / 20) train loss: 2.303224; val loss: 2.302684\n",
      "(Epoch 2 / 20) train loss: 2.300654; val loss: 2.303155\n",
      "(Epoch 3 / 20) train loss: 2.299727; val loss: 2.303883\n",
      "(Epoch 4 / 20) train loss: 2.298737; val loss: 2.303650\n",
      "(Epoch 5 / 20) train loss: 2.298156; val loss: 2.304966\n",
      "(Epoch 6 / 20) train loss: 2.298169; val loss: 2.305764\n",
      "(Epoch 7 / 20) train loss: 2.297464; val loss: 2.307565\n",
      "Stopping early at epoch 6!\n",
      "\n",
      "Evaluating Config #37 [of 50]:\n",
      " {'learning_rate': 0.008429123892574268, 'batch_size': 23, 'reg': 8.264727125237134e-05, 'hidden_size': 263, 'loss_func': <class 'exercise_code.networks.loss.CrossEntropyFromLogits'>, 'activation': <class 'exercise_code.networks.layer.LeakyRelu'>, 'dropout': 0.4180333422621354, 'num_layer': 7}\n",
      "(Epoch 1 / 20) train loss: 2.307738; val loss: 2.306433\n",
      "(Epoch 2 / 20) train loss: 2.307504; val loss: 2.314462\n",
      "(Epoch 3 / 20) train loss: 2.302333; val loss: 2.307710\n",
      "(Epoch 4 / 20) train loss: 2.301354; val loss: 2.308859\n",
      "(Epoch 5 / 20) train loss: 2.301741; val loss: 2.310700\n",
      "(Epoch 6 / 20) train loss: 2.302014; val loss: 2.311643\n",
      "(Epoch 7 / 20) train loss: 2.305353; val loss: 2.309638\n",
      "Stopping early at epoch 6!\n",
      "\n",
      "Evaluating Config #38 [of 50]:\n",
      " {'learning_rate': 0.007031035822119876, 'batch_size': 94, 'reg': 3.1450148648306086e-05, 'hidden_size': 212, 'loss_func': <class 'exercise_code.networks.loss.CrossEntropyFromLogits'>, 'activation': <class 'exercise_code.networks.layer.Tanh'>, 'dropout': 0.21842377364416454, 'num_layer': 6}\n",
      "(Epoch 1 / 20) train loss: 2.821365; val loss: 3.726482\n",
      "(Epoch 2 / 20) train loss: 2.855606; val loss: 2.736169\n",
      "(Epoch 3 / 20) train loss: 2.836026; val loss: 2.537118\n",
      "(Epoch 4 / 20) train loss: 2.987793; val loss: 3.598186\n",
      "(Epoch 5 / 20) train loss: 3.016003; val loss: 3.297841\n",
      "(Epoch 6 / 20) train loss: 3.068992; val loss: 2.835317\n",
      "(Epoch 7 / 20) train loss: 3.028034; val loss: 3.301250\n",
      "(Epoch 8 / 20) train loss: nan; val loss: nan\n",
      "(Epoch 9 / 20) train loss: nan; val loss: nan\n",
      "Stopping early at epoch 8!\n",
      "\n",
      "Evaluating Config #39 [of 50]:\n",
      " {'learning_rate': 0.00530100136714542, 'batch_size': 51, 'reg': 0.00010334148920456752, 'hidden_size': 100, 'loss_func': <class 'exercise_code.networks.loss.CrossEntropyFromLogits'>, 'activation': <class 'exercise_code.networks.layer.Tanh'>, 'dropout': 0.3086727359126114, 'num_layer': 3}\n",
      "(Epoch 1 / 20) train loss: 2.329381; val loss: 2.251680\n",
      "(Epoch 2 / 20) train loss: 2.346722; val loss: 2.311696\n",
      "(Epoch 3 / 20) train loss: 2.358501; val loss: 2.343502\n",
      "(Epoch 4 / 20) train loss: 2.355515; val loss: 2.787772\n",
      "(Epoch 5 / 20) train loss: 2.421854; val loss: 2.478507\n",
      "(Epoch 6 / 20) train loss: 2.464087; val loss: 2.640759\n",
      "(Epoch 7 / 20) train loss: 2.512217; val loss: 2.553574\n",
      "Stopping early at epoch 6!\n",
      "\n",
      "Evaluating Config #40 [of 50]:\n",
      " {'learning_rate': 0.00969779335942789, 'batch_size': 63, 'reg': 1.6333895943251576e-05, 'hidden_size': 329, 'loss_func': <class 'exercise_code.networks.loss.CrossEntropyFromLogits'>, 'activation': <class 'exercise_code.networks.layer.Tanh'>, 'dropout': 0.49498896506952833, 'num_layer': 5}\n",
      "(Epoch 1 / 20) train loss: 3.952997; val loss: 3.117332\n",
      "(Epoch 2 / 20) train loss: 3.556372; val loss: 3.102776\n",
      "(Epoch 3 / 20) train loss: nan; val loss: nan\n",
      "(Epoch 4 / 20) train loss: nan; val loss: nan\n",
      "(Epoch 5 / 20) train loss: nan; val loss: nan\n",
      "(Epoch 6 / 20) train loss: nan; val loss: nan\n",
      "(Epoch 7 / 20) train loss: nan; val loss: nan\n",
      "(Epoch 8 / 20) train loss: nan; val loss: nan\n",
      "Stopping early at epoch 7!\n",
      "\n",
      "Evaluating Config #41 [of 50]:\n",
      " {'learning_rate': 0.002688900253452869, 'batch_size': 119, 'reg': 6.473934749056404e-05, 'hidden_size': 89, 'loss_func': <class 'exercise_code.networks.loss.CrossEntropyFromLogits'>, 'activation': <class 'exercise_code.networks.layer.LeakyRelu'>, 'dropout': 0.5826700703878004, 'num_layer': 9}\n",
      "(Epoch 1 / 20) train loss: 2.303195; val loss: 2.302114\n",
      "(Epoch 2 / 20) train loss: 2.300985; val loss: 2.303046\n",
      "(Epoch 3 / 20) train loss: 2.299527; val loss: 2.303435\n",
      "(Epoch 4 / 20) train loss: 2.299043; val loss: 2.304909\n",
      "(Epoch 5 / 20) train loss: 2.298125; val loss: 2.305411\n",
      "(Epoch 6 / 20) train loss: 2.297408; val loss: 2.305963\n",
      "(Epoch 7 / 20) train loss: 2.297569; val loss: 2.306857\n",
      "Stopping early at epoch 6!\n",
      "\n",
      "Evaluating Config #42 [of 50]:\n",
      " {'learning_rate': 0.0013620605860131918, 'batch_size': 102, 'reg': 3.135581100265465e-05, 'hidden_size': 115, 'loss_func': <class 'exercise_code.networks.loss.CrossEntropyFromLogits'>, 'activation': <class 'exercise_code.networks.layer.Tanh'>, 'dropout': 0.6918445000979373, 'num_layer': 3}\n",
      "(Epoch 1 / 20) train loss: 2.236030; val loss: 2.039102\n",
      "(Epoch 2 / 20) train loss: 2.092868; val loss: 2.026956\n",
      "(Epoch 3 / 20) train loss: 2.020796; val loss: 2.039213\n",
      "(Epoch 4 / 20) train loss: 1.947223; val loss: 2.014554\n",
      "(Epoch 5 / 20) train loss: 1.897874; val loss: 2.099598\n",
      "(Epoch 6 / 20) train loss: 1.829536; val loss: 2.014064\n",
      "(Epoch 7 / 20) train loss: 1.768873; val loss: 2.009183\n",
      "(Epoch 8 / 20) train loss: 1.716924; val loss: 2.079942\n",
      "(Epoch 9 / 20) train loss: 1.606190; val loss: 2.120747\n",
      "(Epoch 10 / 20) train loss: 1.604886; val loss: 2.233877\n",
      "(Epoch 11 / 20) train loss: 1.608975; val loss: 2.192603\n",
      "(Epoch 12 / 20) train loss: 1.498398; val loss: 2.279858\n",
      "(Epoch 13 / 20) train loss: 1.439090; val loss: 2.273437\n",
      "Stopping early at epoch 12!\n",
      "\n",
      "Evaluating Config #43 [of 50]:\n",
      " {'learning_rate': 0.008130345057787786, 'batch_size': 59, 'reg': 0.00032728529779161295, 'hidden_size': 358, 'loss_func': <class 'exercise_code.networks.loss.CrossEntropyFromLogits'>, 'activation': <class 'exercise_code.networks.layer.Tanh'>, 'dropout': 0.6263748910687725, 'num_layer': 9}\n",
      "(Epoch 1 / 20) train loss: 3.723672; val loss: 3.397814\n",
      "(Epoch 2 / 20) train loss: 3.537688; val loss: 3.426087\n",
      "(Epoch 3 / 20) train loss: 3.967763; val loss: 4.146217\n",
      "(Epoch 4 / 20) train loss: 3.637071; val loss: 3.253864\n",
      "(Epoch 5 / 20) train loss: 3.545012; val loss: 3.371427\n",
      "(Epoch 6 / 20) train loss: 3.652192; val loss: 4.553675\n",
      "(Epoch 7 / 20) train loss: 4.068368; val loss: 3.425240\n",
      "(Epoch 8 / 20) train loss: 5.491042; val loss: 7.240792\n",
      "(Epoch 9 / 20) train loss: 6.572886; val loss: 5.673783\n",
      "(Epoch 10 / 20) train loss: 4.884925; val loss: 4.694250\n",
      "Stopping early at epoch 9!\n",
      "\n",
      "Evaluating Config #44 [of 50]:\n",
      " {'learning_rate': 0.0037769868863639995, 'batch_size': 16, 'reg': 3.6123273247033615e-05, 'hidden_size': 487, 'loss_func': <class 'exercise_code.networks.loss.CrossEntropyFromLogits'>, 'activation': <class 'exercise_code.networks.layer.LeakyRelu'>, 'dropout': 0.64768443065987, 'num_layer': 7}\n",
      "(Epoch 1 / 20) train loss: 2.303922; val loss: 2.304496\n",
      "(Epoch 2 / 20) train loss: 2.302139; val loss: 2.303761\n",
      "(Epoch 3 / 20) train loss: 2.299673; val loss: 2.305705\n",
      "(Epoch 4 / 20) train loss: 2.299143; val loss: 2.306242\n",
      "(Epoch 5 / 20) train loss: 2.298911; val loss: 2.306641\n",
      "(Epoch 6 / 20) train loss: 2.298741; val loss: 2.306575\n",
      "(Epoch 7 / 20) train loss: 2.298432; val loss: 2.308037\n",
      "(Epoch 8 / 20) train loss: 2.302836; val loss: 2.307314\n",
      "Stopping early at epoch 7!\n",
      "\n",
      "Evaluating Config #45 [of 50]:\n",
      " {'learning_rate': 0.0038396155542866134, 'batch_size': 80, 'reg': 0.00017124493163664167, 'hidden_size': 498, 'loss_func': <class 'exercise_code.networks.loss.CrossEntropyFromLogits'>, 'activation': <class 'exercise_code.networks.layer.Tanh'>, 'dropout': 0.24575734103305857, 'num_layer': 6}\n",
      "(Epoch 1 / 20) train loss: 3.314432; val loss: 3.731079\n",
      "(Epoch 2 / 20) train loss: 3.671736; val loss: 2.907926\n",
      "(Epoch 3 / 20) train loss: 3.318043; val loss: 3.282302\n",
      "(Epoch 4 / 20) train loss: 3.838297; val loss: 4.104174\n",
      "(Epoch 5 / 20) train loss: 4.162212; val loss: 4.043923\n",
      "(Epoch 6 / 20) train loss: 4.320146; val loss: 4.137627\n",
      "(Epoch 7 / 20) train loss: 4.401778; val loss: 4.281620\n",
      "(Epoch 8 / 20) train loss: 4.403120; val loss: 4.162806\n",
      "Stopping early at epoch 7!\n",
      "\n",
      "Evaluating Config #46 [of 50]:\n",
      " {'learning_rate': 0.0034564399325040926, 'batch_size': 93, 'reg': 0.0001445426794721849, 'hidden_size': 370, 'loss_func': <class 'exercise_code.networks.loss.CrossEntropyFromLogits'>, 'activation': <class 'exercise_code.networks.layer.LeakyRelu'>, 'dropout': 0.6832444444519774, 'num_layer': 3}\n",
      "(Epoch 1 / 20) train loss: 2.638470; val loss: 3.372850\n",
      "(Epoch 2 / 20) train loss: 3.223741; val loss: 3.080697\n",
      "(Epoch 3 / 20) train loss: 3.706287; val loss: 3.378936\n",
      "(Epoch 4 / 20) train loss: 3.245300; val loss: 3.112420\n",
      "(Epoch 5 / 20) train loss: 4.219054; val loss: 3.441486\n",
      "(Epoch 6 / 20) train loss: 3.779410; val loss: 3.834897\n",
      "(Epoch 7 / 20) train loss: 3.456335; val loss: 3.905085\n",
      "(Epoch 8 / 20) train loss: 4.027738; val loss: 5.341899\n",
      "Stopping early at epoch 7!\n",
      "\n",
      "Evaluating Config #47 [of 50]:\n",
      " {'learning_rate': 0.004250616044021582, 'batch_size': 93, 'reg': 4.312416879127704e-05, 'hidden_size': 260, 'loss_func': <class 'exercise_code.networks.loss.CrossEntropyFromLogits'>, 'activation': <class 'exercise_code.networks.layer.LeakyRelu'>, 'dropout': 0.2856847027273689, 'num_layer': 10}\n",
      "(Epoch 1 / 20) train loss: 2.303703; val loss: 2.305553\n",
      "(Epoch 2 / 20) train loss: 2.302417; val loss: 2.304851\n",
      "(Epoch 3 / 20) train loss: 2.300317; val loss: 2.304454\n",
      "(Epoch 4 / 20) train loss: 2.301682; val loss: 2.306286\n",
      "(Epoch 5 / 20) train loss: 2.299461; val loss: 2.305925\n",
      "(Epoch 6 / 20) train loss: 2.299683; val loss: 2.306957\n",
      "(Epoch 7 / 20) train loss: 2.298890; val loss: 2.308063\n",
      "(Epoch 8 / 20) train loss: 2.298430; val loss: 2.308061\n",
      "(Epoch 9 / 20) train loss: 2.299067; val loss: 2.308673\n",
      "Stopping early at epoch 8!\n",
      "\n",
      "Evaluating Config #48 [of 50]:\n",
      " {'learning_rate': 0.008860081101390261, 'batch_size': 118, 'reg': 6.949860627924067e-05, 'hidden_size': 479, 'loss_func': <class 'exercise_code.networks.loss.CrossEntropyFromLogits'>, 'activation': <class 'exercise_code.networks.layer.LeakyRelu'>, 'dropout': 0.23176283220374327, 'num_layer': 3}\n",
      "(Epoch 1 / 20) train loss: 17.973669; val loss: 6.629538\n",
      "(Epoch 2 / 20) train loss: 15.356327; val loss: 12.951024\n",
      "(Epoch 3 / 20) train loss: 32.105579; val loss: 34.967793\n",
      "(Epoch 4 / 20) train loss: nan; val loss: inf\n",
      "(Epoch 5 / 20) train loss: nan; val loss: nan\n",
      "(Epoch 6 / 20) train loss: nan; val loss: nan\n",
      "(Epoch 7 / 20) train loss: nan; val loss: nan\n",
      "Stopping early at epoch 6!\n",
      "\n",
      "Evaluating Config #49 [of 50]:\n",
      " {'learning_rate': 0.0035451792758331396, 'batch_size': 121, 'reg': 0.00017613286692289088, 'hidden_size': 251, 'loss_func': <class 'exercise_code.networks.loss.CrossEntropyFromLogits'>, 'activation': <class 'exercise_code.networks.layer.Tanh'>, 'dropout': 0.2572953239492835, 'num_layer': 6}\n",
      "(Epoch 1 / 20) train loss: 2.305519; val loss: 2.318726\n",
      "(Epoch 2 / 20) train loss: 2.832233; val loss: 3.182095\n",
      "(Epoch 3 / 20) train loss: 2.875236; val loss: 2.620653\n",
      "(Epoch 4 / 20) train loss: 2.956554; val loss: 2.632702\n",
      "(Epoch 5 / 20) train loss: 2.898162; val loss: 2.888834\n",
      "(Epoch 6 / 20) train loss: 3.129231; val loss: 3.200357\n",
      "(Epoch 7 / 20) train loss: 3.211844; val loss: 3.238086\n",
      "Stopping early at epoch 6!\n",
      "\n",
      "Evaluating Config #50 [of 50]:\n",
      " {'learning_rate': 0.0019575575981392304, 'batch_size': 84, 'reg': 0.0002971747935807339, 'hidden_size': 280, 'loss_func': <class 'exercise_code.networks.loss.CrossEntropyFromLogits'>, 'activation': <class 'exercise_code.networks.layer.Tanh'>, 'dropout': 0.2545038195876978, 'num_layer': 9}\n",
      "(Epoch 1 / 20) train loss: 2.304507; val loss: 2.303832\n",
      "(Epoch 2 / 20) train loss: 2.315191; val loss: 2.312004\n",
      "(Epoch 3 / 20) train loss: 2.308247; val loss: 2.305772\n",
      "(Epoch 4 / 20) train loss: 2.301669; val loss: 2.305681\n",
      "(Epoch 5 / 20) train loss: 2.301379; val loss: 2.304047\n",
      "(Epoch 6 / 20) train loss: 2.300215; val loss: 2.305216\n",
      "(Epoch 7 / 20) train loss: 2.298815; val loss: 2.304705\n",
      "Stopping early at epoch 6!\n",
      "\n",
      "Search done. Best Val Loss = 1.998399761181051\n",
      "Best Config: {'learning_rate': 0.001278244368895503, 'batch_size': 124, 'reg': 2.524396004717969e-05, 'hidden_size': 379, 'loss_func': <class 'exercise_code.networks.loss.CrossEntropyFromLogits'>, 'activation': <class 'exercise_code.networks.layer.Tanh'>, 'dropout': 0.6431917925721038, 'num_layer': 3}\n"
     ]
    }
   ],
   "source": [
    "from exercise_code.networks import MyOwnNetwork, ClassificationNet\n",
    "\n",
    "\n",
    "model_type = ClassificationNet\n",
    "#model_type = MyOwnNetwork\n",
    "\n",
    "########################################################################\n",
    "# TODO:                                                                #\n",
    "# Implement your own neural network and find suitable hyperparameters  #\n",
    "# Be sure to edit the MyOwnNetwork class in the following code snippet #\n",
    "# to upload the correct model! Or just use the given                   #\n",
    "# \"ClassificationNet\".                                                 #\n",
    "#                                                                      #\n",
    "# Note: the pickling cell expects your model to be named \"best_model\". #\n",
    "# Unless you change it there, naming the best model in any other way   #\n",
    "# will result in an unknown behavior.                                  #\n",
    "########################################################################\n",
    "\n",
    "hyperparameter_ranges = {\n",
    "    \"learning_rate\": ([0.0005, 0.005], 'log'),\n",
    "    \"batch_size\": ([100, 150], \"int\"),\n",
    "    \"reg\": ([1e-5, 1e-4], \"log\"),\n",
    "    \"hidden_size\": ([300, 450], \"int\"),\n",
    "    \"loss_func\": ([CrossEntropyFromLogits], \"item\"),\n",
    "    \"activation\": ([Tanh, LeakyRelu], \"item\"),\n",
    "    \"dropout\": ([0.5, 0.7], \"float\"),\n",
    "    \"num_layer\": ([2, 5], \"int\"),\n",
    "}\n",
    "\n",
    "best_model, best_config, results = random_search(\n",
    "    dataloaders['train_small'], dataloaders['val_500files'],\n",
    "    random_search_spaces=hyperparameter_ranges,\n",
    "    model_class=model_type,\n",
    "    num_search=50, epochs=20, patience=6\n",
    ")\n",
    "########################################################################\n",
    "#                           END OF YOUR CODE                           #\n",
    "########################################################################"
   ]
  },
  {
   "attachments": {},
   "cell_type": "markdown",
   "metadata": {
    "id": "gmZbWaaIN5er"
   },
   "source": [
    "Now it's time to edit the ranges above and adjust them to explore regions that performed well!\n",
    "\n",
    "Also, feel free to experiment around. Other hyperparameters you can change are the network architecture, optimizer, activations functions and many more.\n",
    "\n",
    "Try to get an accuracy as high as possible, since that's all what counts for this submission!\n",
    "\n",
    "You'll pass if you reach at least **48%** accuracy on our test set - but there will also be a leaderboard of all students of this course. Can you make it to the top?"
   ]
  },
  {
   "attachments": {},
   "cell_type": "markdown",
   "metadata": {
    "id": "mJZ7UXHeN5er"
   },
   "source": [
    "## 3.5 Checking the validation accuracy"
   ]
  },
  {
   "cell_type": "code",
   "execution_count": 48,
   "metadata": {
    "colab": {
     "background_save": true
    },
    "id": "qPyHczNJN5er",
    "outputId": "7cbc0fbb-2d6e-49a1-d518-83e2260ea339"
   },
   "outputs": [
    {
     "name": "stdout",
     "output_type": "stream",
     "text": [
      "Train Accuracy: \u001b[91m27.166800213675213\u001b[0m%\n",
      "Validation Accuracy: \u001b[91m26.08173076923077\u001b[0m%\n"
     ]
    }
   ],
   "source": [
    "from exercise_code.tests.base_tests import bcolors\n",
    "\n",
    "labels, pred, acc = best_model.get_dataset_prediction(dataloaders['train'])\n",
    "res = bcolors.colorize(\"green\", acc * 100) if acc * 100 > 48 else bcolors.colorize(\"red\", acc * 100)\n",
    "print(\"Train Accuracy: {}%\".format(res))\n",
    "labels, pred, acc = best_model.get_dataset_prediction(dataloaders['val'])\n",
    "res = bcolors.colorize(\"green\", acc * 100) if acc * 100 > 48 else bcolors.colorize(\"red\", acc * 100)\n",
    "print(\"Validation Accuracy: {}%\".format(res))"
   ]
  },
  {
   "attachments": {},
   "cell_type": "markdown",
   "metadata": {
    "id": "MQ_AGtp8N5er"
   },
   "source": [
    "# 4. Test your model\n",
    "When you have finished the hyperparameter tuning and you found your final model which performs well on the validation set (**you should at least get 48% accuracy on the validation set!**), it's time to run your model on the test set.\n",
    "\n",
    "<div class=\"alert alert-danger\">\n",
    "    <h3>Important</h3>\n",
    "    <p>As you have learned in the lecture, you must only use the test set once! So only run the next cell if you are completely sure that your model works well enough and that you are ready to submit. Your test set is different from the test set on our server, so results may vary a bit. Nevertheless, you will get a reasonable approximation of your model's performance if you perform the final evaluation on the test set only once.</p>\n",
    "    <p>If you are an external student that can't use our submission webpage: this test performance is your final result and if you surpassed the threshold, you have completed this exercise :). Now, train again to aim for a better number!</p>\n",
    "</div>"
   ]
  },
  {
   "cell_type": "code",
   "execution_count": 49,
   "metadata": {
    "colab": {
     "background_save": true
    },
    "id": "xJ2lwiVUN5er",
    "outputId": "82f45e2a-7357-4444-d8c7-2296b7f6cb68"
   },
   "outputs": [
    {
     "name": "stdout",
     "output_type": "stream",
     "text": [
      "Test Accuracy: \u001b[91m26.452323717948715\u001b[0m%\n"
     ]
    }
   ],
   "source": [
    "# comment this part out to see your model's performance on the test set.\n",
    "labels, pred, acc = best_model.get_dataset_prediction(dataloaders['test'])\n",
    "res = bcolors.colorize(\"green\", acc * 100) if acc * 100 > 48 else bcolors.colorize(\"red\", acc * 100)\n",
    "print(\"Test Accuracy: {}%\".format(res))\n"
   ]
  },
  {
   "attachments": {},
   "cell_type": "markdown",
   "metadata": {
    "id": "K3MBnG7qN5er"
   },
   "source": [
    "<div class=\"alert alert-warning\">\n",
    "    <h3>Note:</h3>\n",
    "    <p>The \"real\" test set is actually the dataset we're using for testing your model, which is <b>different</b> from the test-set you're using here.</p>\n",
    "</div>"
   ]
  },
  {
   "attachments": {},
   "cell_type": "markdown",
   "metadata": {
    "id": "2lOy_GulN5es"
   },
   "source": [
    "# 5. Saving your Model"
   ]
  },
  {
   "cell_type": "code",
   "execution_count": null,
   "metadata": {},
   "outputs": [],
   "source": [
    "from exercise_code.networks import MyOwnNetwork, ClassificationNet\n"
   ]
  },
  {
   "cell_type": "code",
   "execution_count": null,
   "metadata": {
    "colab": {
     "background_save": true
    },
    "id": "icgNMAlEN5es"
   },
   "outputs": [],
   "source": [
    "#if this cell results in an error, please try restarting your kernel and rerunning the whole notebook.\n",
    "from exercise_code.tests import save_pickle\n",
    "best_model.eval()\n",
    "save_pickle({\"cifar_fcn\": best_model}, \"cifar_fcn.p\")"
   ]
  },
  {
   "cell_type": "code",
   "execution_count": null,
   "metadata": {
    "colab": {
     "background_save": true
    },
    "id": "Gd4TchGlN5es",
    "outputId": "b913c1bd-b861-47bb-c257-b30fa214e761"
   },
   "outputs": [],
   "source": [
    "from exercise_code.submit import submit_exercise\n",
    "\n",
    "submit_exercise('../output/exercise_06')"
   ]
  },
  {
   "attachments": {},
   "cell_type": "markdown",
   "metadata": {
    "id": "q5C_bKa5N5es"
   },
   "source": [
    "# 6. Submission Instructions\n",
    "\n",
    "Congratulations! You've just built your first image classifier! To complete the exercise, submit your final model to our submission portal - you probably know the procedure by now.\n",
    "\n",
    "1. Go on [our submission page](https://i2dl.vc.in.tum.de/), register for an account and login. We use your matriculation number and send you an email with the login details to the associated mail account. When in doubt, login into tum-online and check your mails there. You will get an id which we'll need in the next step.\n",
    "2. Log into [our submission page](https://i2dl.vc.in.tum.de/), with your account details and upload the zip file.\n",
    "3. Your submission will be evaluated by our system and you will get feedback about the performance of it. You will get an email with your score, as well as a message if you have surpassed the threshold or not.\n",
    "4. Within the working period, you can submit as many solutions as you want to get the best possible score.\n",
    "\n",
    "\n",
    "# 7. Submission Goals\n",
    "\n",
    "- Goal: Successfully implement a fully connected NN image classifier and tune the hyperparameters.\n",
    "\n",
    "- Passing Criteria: This time, there are no unit tests checking specific components of your code. To  pass the submission your model needs to reach at least **48% accuracy** on __our__ test dataset. The submission system will show you a number between 0 and 100 which corresponds to your accuracy.\n",
    "\n",
    "- You can make **$\\infty$** submissions until the deadline. Your __best submission__ will be considered for the bonus."
   ]
  }
 ],
 "metadata": {
  "colab": {
   "collapsed_sections": [
    "WKNRU4BWN5eg",
    "3MhxqP2LN5ej",
    "dbFSP4z9N5ek",
    "0TE2PxMBN5ek",
    "QUFotyERN5ek",
    "l0pZa4weN5eo",
    "rDyeiAN1N5ep",
    "DCaACnn3N5eq",
    "P8wWTovfN5eq",
    "mJZ7UXHeN5er"
   ],
   "name": "1.cifar10_classification.ipynb",
   "provenance": []
  },
  "kernelspec": {
   "display_name": "i2dl",
   "language": "python",
   "name": "python3"
  },
  "language_info": {
   "codemirror_mode": {
    "name": "ipython",
    "version": 3
   },
   "file_extension": ".py",
   "mimetype": "text/x-python",
   "name": "python",
   "nbconvert_exporter": "python",
   "pygments_lexer": "ipython3",
   "version": "3.11.9"
  },
  "vscode": {
   "interpreter": {
    "hash": "54970da6898dad277dbf355945c2dee7f942d2a31ec1fc1455b6d4f552d07b83"
   }
  }
 },
 "nbformat": 4,
 "nbformat_minor": 1
}
